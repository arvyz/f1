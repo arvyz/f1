{
 "cells": [
  {
   "cell_type": "markdown",
   "source": [
    "# Formula 1 Analysis\n",
    "\n",
    "In this notebook, we will try various analyses with F1 Data from Kaggle - [Formula 1 World Championship 1950 - 2023 Dataset](https://www.kaggle.com/datasets/rohanrao/formula-1-world-championship-1950-2020)\n",
    "\n"
   ],
   "metadata": {
    "collapsed": false
   }
  },
  {
   "cell_type": "code",
   "execution_count": 2,
   "outputs": [],
   "source": [
    "import warnings\n",
    "\n",
    "# Import required libraries\n",
    "\n",
    "import pandas as pd\n",
    "import seaborn as sns\n",
    "import matplotlib.pyplot as plt\n",
    "import numpy as np\n",
    "from sklearn.model_selection import train_test_split\n",
    "\n",
    "# ignore random API warnings\n",
    "warnings.simplefilter(\"ignore\")"
   ],
   "metadata": {
    "collapsed": false,
    "ExecuteTime": {
     "end_time": "2023-08-07T04:05:53.260863500Z",
     "start_time": "2023-08-07T04:05:52.273335400Z"
    }
   }
  },
  {
   "cell_type": "markdown",
   "source": [
    "## Description of our F1 Data.\n",
    "\n",
    "The F1 data is structured across 14 files from [Kaggle](https://www.kaggle.com/datasets/rohanrao/formula-1-world-championship-1950-2020)\n",
    "\n",
    "+ Circuits - Descriptive Information about F1 Circuits from 1950 - 2023\n",
    "+ Seasons - Just a simple file of each season year\n",
    "+ Races - Information on each race and date it was held and circuit it was held on.\n",
    "+ Constructors - Descriptive Information about each F1 Team\n",
    "+ Constructor Results - Race results for each Constructor (Manufacturer).\n",
    "+ Constructor Standings - The positional standing of the constructor after each race; cyclical - repeats every year.\n",
    "+ Drivers - A descriptive file about the Drivers, including name, dob, nationality\n",
    "+ Results - Results of each driver for every race, including fastest times, speed, laps and race result.\n",
    "+ Drivers Standings - The positional standing of drivers after each race, including number of wins; cyclical - resets and repeats every year\n",
    "+ Qualifying - Results of qualitfying for each driver, for each race or each of Q1, Q2 and Q3 sessions.\n",
    "+ Lap Times - Time and position for each lap of every race\n",
    "+ Pit Stops - Pit Stops for most races; Stop number and stop times (not for all races)\n",
    "+ Sprint Results - A short format race on the day of qualifying; generally orthogonal to the rest of the data (*we won't use it for our analysis*)\n",
    "+ Status - Description of Race status codes for driviers (Finished, DNF, Mech Failure etc.)\n",
    "\n",
    "In addition to the above, we created a new file from a different data source on Wikipedia - [List of Formula 1 Circuits](https://en.wikipedia.org/wiki/List_of_Formula_One_circuits) to get more details on the circuit type information.  This will be used to predict if a circuit is **Street Circuit** or a **Track Circuit** based on various characteristics that we can observe.  This data is represented in the following file:\n",
    "+ Circuits Info - Additional Descriptive Information about Formula 1 Circuits including whether a circuit is a street or a track circuit"
   ],
   "metadata": {
    "collapsed": false
   }
  },
  {
   "cell_type": "markdown",
   "source": [
    "## Load and review all the Data\n",
    "\n",
    "Let's read all the files and review their makeup via display and describe.\n"
   ],
   "metadata": {
    "collapsed": false
   }
  },
  {
   "cell_type": "markdown",
   "source": [
    "### Circuits"
   ],
   "metadata": {
    "collapsed": false
   }
  },
  {
   "cell_type": "code",
   "execution_count": 9,
   "outputs": [
    {
     "name": "stdout",
     "output_type": "stream",
     "text": [
      "Circuits\n"
     ]
    },
    {
     "data": {
      "text/plain": "    circuitId     circuitRef                             name        location   \n0          25         galvez    Autódromo Juan y Oscar Gálvez    Buenos Aires  \\\n1          29       adelaide          Adelaide Street Circuit        Adelaide   \n2           1    albert_park   Albert Park Grand Prix Circuit       Melbourne   \n3          70  red_bull_ring                    Red Bull Ring       Spielberg   \n4          57        zeltweg                          Zeltweg          Styria   \n..        ...            ...                              ...             ...   \n72         79          miami    Miami International Autodrome           Miami   \n73         33        phoenix           Phoenix street circuit         Phoenix   \n74         60      riverside  Riverside International Raceway      California   \n75         63        sebring    Sebring International Raceway         Florida   \n76         46   watkins_glen                     Watkins Glen  New York State   \n\n      country      lat       lng  alt   \n0   Argentina -34.6943  -58.4593    8  \\\n1   Australia -34.9272  138.6170   58   \n2   Australia -37.8497  144.9680   10   \n3     Austria  47.2197   14.7647  678   \n4     Austria  47.2039   14.7478  676   \n..        ...      ...       ...  ...   \n72        USA  25.9581  -80.2389   \\N   \n73        USA  33.4479 -112.0750  345   \n74        USA  33.9370 -117.2730  470   \n75        USA  27.4547  -81.3483   18   \n76        USA  42.3369  -76.9272  485   \n\n                                                  url  \n0   http://en.wikipedia.org/wiki/Aut%C3%B3dromo_Os...  \n1   http://en.wikipedia.org/wiki/Adelaide_Street_C...  \n2   http://en.wikipedia.org/wiki/Melbourne_Grand_P...  \n3          http://en.wikipedia.org/wiki/Red_Bull_Ring  \n4       http://en.wikipedia.org/wiki/Zeltweg_Airfield  \n..                                                ...  \n72  http://en.wikipedia.org/wiki/Miami_Internation...  \n73  http://en.wikipedia.org/wiki/Phoenix_street_ci...  \n74  http://en.wikipedia.org/wiki/Riverside_Interna...  \n75       http://en.wikipedia.org/wiki/Sebring_Raceway  \n76  http://en.wikipedia.org/wiki/Watkins_Glen_Inte...  \n\n[77 rows x 9 columns]",
      "text/html": "<div>\n<style scoped>\n    .dataframe tbody tr th:only-of-type {\n        vertical-align: middle;\n    }\n\n    .dataframe tbody tr th {\n        vertical-align: top;\n    }\n\n    .dataframe thead th {\n        text-align: right;\n    }\n</style>\n<table border=\"1\" class=\"dataframe\">\n  <thead>\n    <tr style=\"text-align: right;\">\n      <th></th>\n      <th>circuitId</th>\n      <th>circuitRef</th>\n      <th>name</th>\n      <th>location</th>\n      <th>country</th>\n      <th>lat</th>\n      <th>lng</th>\n      <th>alt</th>\n      <th>url</th>\n    </tr>\n  </thead>\n  <tbody>\n    <tr>\n      <th>0</th>\n      <td>25</td>\n      <td>galvez</td>\n      <td>Autódromo Juan y Oscar Gálvez</td>\n      <td>Buenos Aires</td>\n      <td>Argentina</td>\n      <td>-34.6943</td>\n      <td>-58.4593</td>\n      <td>8</td>\n      <td>http://en.wikipedia.org/wiki/Aut%C3%B3dromo_Os...</td>\n    </tr>\n    <tr>\n      <th>1</th>\n      <td>29</td>\n      <td>adelaide</td>\n      <td>Adelaide Street Circuit</td>\n      <td>Adelaide</td>\n      <td>Australia</td>\n      <td>-34.9272</td>\n      <td>138.6170</td>\n      <td>58</td>\n      <td>http://en.wikipedia.org/wiki/Adelaide_Street_C...</td>\n    </tr>\n    <tr>\n      <th>2</th>\n      <td>1</td>\n      <td>albert_park</td>\n      <td>Albert Park Grand Prix Circuit</td>\n      <td>Melbourne</td>\n      <td>Australia</td>\n      <td>-37.8497</td>\n      <td>144.9680</td>\n      <td>10</td>\n      <td>http://en.wikipedia.org/wiki/Melbourne_Grand_P...</td>\n    </tr>\n    <tr>\n      <th>3</th>\n      <td>70</td>\n      <td>red_bull_ring</td>\n      <td>Red Bull Ring</td>\n      <td>Spielberg</td>\n      <td>Austria</td>\n      <td>47.2197</td>\n      <td>14.7647</td>\n      <td>678</td>\n      <td>http://en.wikipedia.org/wiki/Red_Bull_Ring</td>\n    </tr>\n    <tr>\n      <th>4</th>\n      <td>57</td>\n      <td>zeltweg</td>\n      <td>Zeltweg</td>\n      <td>Styria</td>\n      <td>Austria</td>\n      <td>47.2039</td>\n      <td>14.7478</td>\n      <td>676</td>\n      <td>http://en.wikipedia.org/wiki/Zeltweg_Airfield</td>\n    </tr>\n    <tr>\n      <th>...</th>\n      <td>...</td>\n      <td>...</td>\n      <td>...</td>\n      <td>...</td>\n      <td>...</td>\n      <td>...</td>\n      <td>...</td>\n      <td>...</td>\n      <td>...</td>\n    </tr>\n    <tr>\n      <th>72</th>\n      <td>79</td>\n      <td>miami</td>\n      <td>Miami International Autodrome</td>\n      <td>Miami</td>\n      <td>USA</td>\n      <td>25.9581</td>\n      <td>-80.2389</td>\n      <td>\\N</td>\n      <td>http://en.wikipedia.org/wiki/Miami_Internation...</td>\n    </tr>\n    <tr>\n      <th>73</th>\n      <td>33</td>\n      <td>phoenix</td>\n      <td>Phoenix street circuit</td>\n      <td>Phoenix</td>\n      <td>USA</td>\n      <td>33.4479</td>\n      <td>-112.0750</td>\n      <td>345</td>\n      <td>http://en.wikipedia.org/wiki/Phoenix_street_ci...</td>\n    </tr>\n    <tr>\n      <th>74</th>\n      <td>60</td>\n      <td>riverside</td>\n      <td>Riverside International Raceway</td>\n      <td>California</td>\n      <td>USA</td>\n      <td>33.9370</td>\n      <td>-117.2730</td>\n      <td>470</td>\n      <td>http://en.wikipedia.org/wiki/Riverside_Interna...</td>\n    </tr>\n    <tr>\n      <th>75</th>\n      <td>63</td>\n      <td>sebring</td>\n      <td>Sebring International Raceway</td>\n      <td>Florida</td>\n      <td>USA</td>\n      <td>27.4547</td>\n      <td>-81.3483</td>\n      <td>18</td>\n      <td>http://en.wikipedia.org/wiki/Sebring_Raceway</td>\n    </tr>\n    <tr>\n      <th>76</th>\n      <td>46</td>\n      <td>watkins_glen</td>\n      <td>Watkins Glen</td>\n      <td>New York State</td>\n      <td>USA</td>\n      <td>42.3369</td>\n      <td>-76.9272</td>\n      <td>485</td>\n      <td>http://en.wikipedia.org/wiki/Watkins_Glen_Inte...</td>\n    </tr>\n  </tbody>\n</table>\n<p>77 rows × 9 columns</p>\n</div>"
     },
     "metadata": {},
     "output_type": "display_data"
    },
    {
     "data": {
      "text/plain": "           count       mean        std       min       25%       50%      75%   \ncircuitId   77.0  39.883117  23.001701    1.0000  20.00000  40.00000  59.0000  \\\nlat         77.0  33.442925  22.808866  -37.8497  32.77740  40.95170  46.9589   \nlng         77.0   1.076683  65.516951 -118.1890  -9.39417   3.93083  19.2486   \n\n                max  \ncircuitId   80.0000  \nlat         57.2653  \nlng        144.9680  ",
      "text/html": "<div>\n<style scoped>\n    .dataframe tbody tr th:only-of-type {\n        vertical-align: middle;\n    }\n\n    .dataframe tbody tr th {\n        vertical-align: top;\n    }\n\n    .dataframe thead th {\n        text-align: right;\n    }\n</style>\n<table border=\"1\" class=\"dataframe\">\n  <thead>\n    <tr style=\"text-align: right;\">\n      <th></th>\n      <th>count</th>\n      <th>mean</th>\n      <th>std</th>\n      <th>min</th>\n      <th>25%</th>\n      <th>50%</th>\n      <th>75%</th>\n      <th>max</th>\n    </tr>\n  </thead>\n  <tbody>\n    <tr>\n      <th>circuitId</th>\n      <td>77.0</td>\n      <td>39.883117</td>\n      <td>23.001701</td>\n      <td>1.0000</td>\n      <td>20.00000</td>\n      <td>40.00000</td>\n      <td>59.0000</td>\n      <td>80.0000</td>\n    </tr>\n    <tr>\n      <th>lat</th>\n      <td>77.0</td>\n      <td>33.442925</td>\n      <td>22.808866</td>\n      <td>-37.8497</td>\n      <td>32.77740</td>\n      <td>40.95170</td>\n      <td>46.9589</td>\n      <td>57.2653</td>\n    </tr>\n    <tr>\n      <th>lng</th>\n      <td>77.0</td>\n      <td>1.076683</td>\n      <td>65.516951</td>\n      <td>-118.1890</td>\n      <td>-9.39417</td>\n      <td>3.93083</td>\n      <td>19.2486</td>\n      <td>144.9680</td>\n    </tr>\n  </tbody>\n</table>\n</div>"
     },
     "metadata": {},
     "output_type": "display_data"
    },
    {
     "name": "stdout",
     "output_type": "stream",
     "text": [
      "Circuits Info\n"
     ]
    },
    {
     "data": {
      "text/plain": "                            Circuit     circuitRef   \n0     Autódromo Juan y Oscar Gálvez         galvez  \\\n1           Adelaide Street Circuit       adelaide   \n2             Albert Park Circuit ✔    albert_park   \n3                   Red Bull Ring ✔  red_bull_ring   \n4                  Zeltweg Airfield        zeltweg   \n..                              ...            ...   \n72           Phoenix Street Circuit        phoenix   \n73  Riverside International Raceway      riverside   \n74                  Sebring Raceway        sebring   \n75        Las Vegas Strip Circuit ✔          vegas   \n76       Watkins Glen International   watkins_glen   \n\n                      Circuit_fixed  Current            Type       Direction   \n0     Autódromo Juan y Oscar Gálvez        0    Race circuit       Clockwise  \\\n1           Adelaide Street Circuit        0  Street circuit       Clockwise   \n2               Albert Park Circuit        1  Street circuit       Clockwise   \n3                     Red Bull Ring        1    Race circuit       Clockwise   \n4                  Zeltweg Airfield        0    Road circuit       Clockwise   \n..                              ...      ...             ...             ...   \n72           Phoenix Street Circuit        0  Street circuit  Anti-clockwise   \n73  Riverside International Raceway        0    Race circuit       Clockwise   \n74                  Sebring Raceway        0    Road circuit       Clockwise   \n75          Las Vegas Strip Circuit        1  Street circuit  Anti-clockwise   \n76       Watkins Glen International        0    Race circuit       Clockwise   \n\n         Location         Country     Last length used   \n0    Buenos Aires       Argentina  4.259 km (2.646 mi)  \\\n1        Adelaide       Australia  3.780 km (2.349 mi)   \n2       Melbourne       Australia  5.278 km (3.280 mi)   \n3       Spielberg         Austria  4.318 km (2.683 mi)   \n4         Zeltweg         Austria  3.186 km (1.980 mi)   \n..            ...             ...                  ...   \n72        Phoenix   United States  3.720 km (2.312 mi)   \n73  Moreno Valley   United States  5.271 km (3.275 mi)   \n74        Sebring   United States  8.356 km (5.192 mi)   \n75       Paradise   United States  6.120 km (3.803 mi)   \n76   Watkins Glen   United States  5.430 km (3.374 mi)   \n\n                 Grands Prix   \n0       Argentine Grand Prix  \\\n1      Australian Grand Prix   \n2      Australian Grand Prix   \n3       Austrian Grand Prix,   \n4        Austrian Grand Prix   \n..                       ...   \n72  United States Grand Prix   \n73  United States Grand Prix   \n74  United States Grand Prix   \n75      Las Vegas Grand Prix   \n76  United States Grand Prix   \n\n                                           Season(s)  Grands Prix held  \n0   1953–1958, 1960, 1972–1975, 1977–1981, 1995–1998                20  \n1                                          1985–1995                11  \n2                               1996–2019, 2022–2023                26  \n3                 1970–1987, 1997–2003, 2014–2023[c]                35  \n4                                               1964                 1  \n..                                               ...               ...  \n72                                         1989–1991                 3  \n73                                              1960                 1  \n74                                              1959                 1  \n75                                          2023[11]                 0  \n76                                         1961–1980                20  \n\n[77 rows x 12 columns]",
      "text/html": "<div>\n<style scoped>\n    .dataframe tbody tr th:only-of-type {\n        vertical-align: middle;\n    }\n\n    .dataframe tbody tr th {\n        vertical-align: top;\n    }\n\n    .dataframe thead th {\n        text-align: right;\n    }\n</style>\n<table border=\"1\" class=\"dataframe\">\n  <thead>\n    <tr style=\"text-align: right;\">\n      <th></th>\n      <th>Circuit</th>\n      <th>circuitRef</th>\n      <th>Circuit_fixed</th>\n      <th>Current</th>\n      <th>Type</th>\n      <th>Direction</th>\n      <th>Location</th>\n      <th>Country</th>\n      <th>Last length used</th>\n      <th>Grands Prix</th>\n      <th>Season(s)</th>\n      <th>Grands Prix held</th>\n    </tr>\n  </thead>\n  <tbody>\n    <tr>\n      <th>0</th>\n      <td>Autódromo Juan y Oscar Gálvez</td>\n      <td>galvez</td>\n      <td>Autódromo Juan y Oscar Gálvez</td>\n      <td>0</td>\n      <td>Race circuit</td>\n      <td>Clockwise</td>\n      <td>Buenos Aires</td>\n      <td>Argentina</td>\n      <td>4.259 km (2.646 mi)</td>\n      <td>Argentine Grand Prix</td>\n      <td>1953–1958, 1960, 1972–1975, 1977–1981, 1995–1998</td>\n      <td>20</td>\n    </tr>\n    <tr>\n      <th>1</th>\n      <td>Adelaide Street Circuit</td>\n      <td>adelaide</td>\n      <td>Adelaide Street Circuit</td>\n      <td>0</td>\n      <td>Street circuit</td>\n      <td>Clockwise</td>\n      <td>Adelaide</td>\n      <td>Australia</td>\n      <td>3.780 km (2.349 mi)</td>\n      <td>Australian Grand Prix</td>\n      <td>1985–1995</td>\n      <td>11</td>\n    </tr>\n    <tr>\n      <th>2</th>\n      <td>Albert Park Circuit ✔</td>\n      <td>albert_park</td>\n      <td>Albert Park Circuit</td>\n      <td>1</td>\n      <td>Street circuit</td>\n      <td>Clockwise</td>\n      <td>Melbourne</td>\n      <td>Australia</td>\n      <td>5.278 km (3.280 mi)</td>\n      <td>Australian Grand Prix</td>\n      <td>1996–2019, 2022–2023</td>\n      <td>26</td>\n    </tr>\n    <tr>\n      <th>3</th>\n      <td>Red Bull Ring ✔</td>\n      <td>red_bull_ring</td>\n      <td>Red Bull Ring</td>\n      <td>1</td>\n      <td>Race circuit</td>\n      <td>Clockwise</td>\n      <td>Spielberg</td>\n      <td>Austria</td>\n      <td>4.318 km (2.683 mi)</td>\n      <td>Austrian Grand Prix,</td>\n      <td>1970–1987, 1997–2003, 2014–2023[c]</td>\n      <td>35</td>\n    </tr>\n    <tr>\n      <th>4</th>\n      <td>Zeltweg Airfield</td>\n      <td>zeltweg</td>\n      <td>Zeltweg Airfield</td>\n      <td>0</td>\n      <td>Road circuit</td>\n      <td>Clockwise</td>\n      <td>Zeltweg</td>\n      <td>Austria</td>\n      <td>3.186 km (1.980 mi)</td>\n      <td>Austrian Grand Prix</td>\n      <td>1964</td>\n      <td>1</td>\n    </tr>\n    <tr>\n      <th>...</th>\n      <td>...</td>\n      <td>...</td>\n      <td>...</td>\n      <td>...</td>\n      <td>...</td>\n      <td>...</td>\n      <td>...</td>\n      <td>...</td>\n      <td>...</td>\n      <td>...</td>\n      <td>...</td>\n      <td>...</td>\n    </tr>\n    <tr>\n      <th>72</th>\n      <td>Phoenix Street Circuit</td>\n      <td>phoenix</td>\n      <td>Phoenix Street Circuit</td>\n      <td>0</td>\n      <td>Street circuit</td>\n      <td>Anti-clockwise</td>\n      <td>Phoenix</td>\n      <td>United States</td>\n      <td>3.720 km (2.312 mi)</td>\n      <td>United States Grand Prix</td>\n      <td>1989–1991</td>\n      <td>3</td>\n    </tr>\n    <tr>\n      <th>73</th>\n      <td>Riverside International Raceway</td>\n      <td>riverside</td>\n      <td>Riverside International Raceway</td>\n      <td>0</td>\n      <td>Race circuit</td>\n      <td>Clockwise</td>\n      <td>Moreno Valley</td>\n      <td>United States</td>\n      <td>5.271 km (3.275 mi)</td>\n      <td>United States Grand Prix</td>\n      <td>1960</td>\n      <td>1</td>\n    </tr>\n    <tr>\n      <th>74</th>\n      <td>Sebring Raceway</td>\n      <td>sebring</td>\n      <td>Sebring Raceway</td>\n      <td>0</td>\n      <td>Road circuit</td>\n      <td>Clockwise</td>\n      <td>Sebring</td>\n      <td>United States</td>\n      <td>8.356 km (5.192 mi)</td>\n      <td>United States Grand Prix</td>\n      <td>1959</td>\n      <td>1</td>\n    </tr>\n    <tr>\n      <th>75</th>\n      <td>Las Vegas Strip Circuit ✔</td>\n      <td>vegas</td>\n      <td>Las Vegas Strip Circuit</td>\n      <td>1</td>\n      <td>Street circuit</td>\n      <td>Anti-clockwise</td>\n      <td>Paradise</td>\n      <td>United States</td>\n      <td>6.120 km (3.803 mi)</td>\n      <td>Las Vegas Grand Prix</td>\n      <td>2023[11]</td>\n      <td>0</td>\n    </tr>\n    <tr>\n      <th>76</th>\n      <td>Watkins Glen International</td>\n      <td>watkins_glen</td>\n      <td>Watkins Glen International</td>\n      <td>0</td>\n      <td>Race circuit</td>\n      <td>Clockwise</td>\n      <td>Watkins Glen</td>\n      <td>United States</td>\n      <td>5.430 km (3.374 mi)</td>\n      <td>United States Grand Prix</td>\n      <td>1961–1980</td>\n      <td>20</td>\n    </tr>\n  </tbody>\n</table>\n<p>77 rows × 12 columns</p>\n</div>"
     },
     "metadata": {},
     "output_type": "display_data"
    },
    {
     "data": {
      "text/plain": "                  count       mean        std  min  25%  50%   75%   max\nCurrent            77.0   0.285714   0.454716  0.0  0.0  0.0   1.0   1.0\nGrands Prix held   77.0  13.324675  16.207894  0.0  2.0  7.0  19.0  72.0",
      "text/html": "<div>\n<style scoped>\n    .dataframe tbody tr th:only-of-type {\n        vertical-align: middle;\n    }\n\n    .dataframe tbody tr th {\n        vertical-align: top;\n    }\n\n    .dataframe thead th {\n        text-align: right;\n    }\n</style>\n<table border=\"1\" class=\"dataframe\">\n  <thead>\n    <tr style=\"text-align: right;\">\n      <th></th>\n      <th>count</th>\n      <th>mean</th>\n      <th>std</th>\n      <th>min</th>\n      <th>25%</th>\n      <th>50%</th>\n      <th>75%</th>\n      <th>max</th>\n    </tr>\n  </thead>\n  <tbody>\n    <tr>\n      <th>Current</th>\n      <td>77.0</td>\n      <td>0.285714</td>\n      <td>0.454716</td>\n      <td>0.0</td>\n      <td>0.0</td>\n      <td>0.0</td>\n      <td>1.0</td>\n      <td>1.0</td>\n    </tr>\n    <tr>\n      <th>Grands Prix held</th>\n      <td>77.0</td>\n      <td>13.324675</td>\n      <td>16.207894</td>\n      <td>0.0</td>\n      <td>2.0</td>\n      <td>7.0</td>\n      <td>19.0</td>\n      <td>72.0</td>\n    </tr>\n  </tbody>\n</table>\n</div>"
     },
     "metadata": {},
     "output_type": "display_data"
    }
   ],
   "source": [
    "# Load and review circuit related information\n",
    "circuits_df = pd.read_csv(\"data/circuits.csv\")\n",
    "print(\"Circuits\")\n",
    "display(circuits_df)\n",
    "display(circuits_df.describe().T)\n",
    "circuits_info_df = pd.read_csv(\"data/circuits_info.csv\")\n",
    "print(\"Circuits Info\")\n",
    "display(circuits_info_df)\n",
    "display(circuits_info_df.describe().T)"
   ],
   "metadata": {
    "collapsed": false,
    "ExecuteTime": {
     "end_time": "2023-08-07T04:15:35.777708700Z",
     "start_time": "2023-08-07T04:15:35.591558Z"
    }
   }
  },
  {
   "cell_type": "markdown",
   "source": [
    "### Seasons and Races"
   ],
   "metadata": {
    "collapsed": false
   }
  },
  {
   "cell_type": "code",
   "execution_count": 12,
   "outputs": [
    {
     "name": "stdout",
     "output_type": "stream",
     "text": [
      "Seasons\n"
     ]
    },
    {
     "data": {
      "text/plain": "    year                                                url\n0   2009  http://en.wikipedia.org/wiki/2009_Formula_One_...\n1   2008  http://en.wikipedia.org/wiki/2008_Formula_One_...\n2   2007  http://en.wikipedia.org/wiki/2007_Formula_One_...\n3   2006  http://en.wikipedia.org/wiki/2006_Formula_One_...\n4   2005  http://en.wikipedia.org/wiki/2005_Formula_One_...\n..   ...                                                ...\n69  2019  http://en.wikipedia.org/wiki/2019_Formula_One_...\n70  2020  http://en.wikipedia.org/wiki/2020_Formula_One_...\n71  2021  http://en.wikipedia.org/wiki/2021_Formula_One_...\n72  2022  http://en.wikipedia.org/wiki/2022_Formula_One_...\n73  2023  https://en.wikipedia.org/wiki/2023_Formula_One...\n\n[74 rows x 2 columns]",
      "text/html": "<div>\n<style scoped>\n    .dataframe tbody tr th:only-of-type {\n        vertical-align: middle;\n    }\n\n    .dataframe tbody tr th {\n        vertical-align: top;\n    }\n\n    .dataframe thead th {\n        text-align: right;\n    }\n</style>\n<table border=\"1\" class=\"dataframe\">\n  <thead>\n    <tr style=\"text-align: right;\">\n      <th></th>\n      <th>year</th>\n      <th>url</th>\n    </tr>\n  </thead>\n  <tbody>\n    <tr>\n      <th>0</th>\n      <td>2009</td>\n      <td>http://en.wikipedia.org/wiki/2009_Formula_One_...</td>\n    </tr>\n    <tr>\n      <th>1</th>\n      <td>2008</td>\n      <td>http://en.wikipedia.org/wiki/2008_Formula_One_...</td>\n    </tr>\n    <tr>\n      <th>2</th>\n      <td>2007</td>\n      <td>http://en.wikipedia.org/wiki/2007_Formula_One_...</td>\n    </tr>\n    <tr>\n      <th>3</th>\n      <td>2006</td>\n      <td>http://en.wikipedia.org/wiki/2006_Formula_One_...</td>\n    </tr>\n    <tr>\n      <th>4</th>\n      <td>2005</td>\n      <td>http://en.wikipedia.org/wiki/2005_Formula_One_...</td>\n    </tr>\n    <tr>\n      <th>...</th>\n      <td>...</td>\n      <td>...</td>\n    </tr>\n    <tr>\n      <th>69</th>\n      <td>2019</td>\n      <td>http://en.wikipedia.org/wiki/2019_Formula_One_...</td>\n    </tr>\n    <tr>\n      <th>70</th>\n      <td>2020</td>\n      <td>http://en.wikipedia.org/wiki/2020_Formula_One_...</td>\n    </tr>\n    <tr>\n      <th>71</th>\n      <td>2021</td>\n      <td>http://en.wikipedia.org/wiki/2021_Formula_One_...</td>\n    </tr>\n    <tr>\n      <th>72</th>\n      <td>2022</td>\n      <td>http://en.wikipedia.org/wiki/2022_Formula_One_...</td>\n    </tr>\n    <tr>\n      <th>73</th>\n      <td>2023</td>\n      <td>https://en.wikipedia.org/wiki/2023_Formula_One...</td>\n    </tr>\n  </tbody>\n</table>\n<p>74 rows × 2 columns</p>\n</div>"
     },
     "metadata": {},
     "output_type": "display_data"
    },
    {
     "data": {
      "text/plain": "      count    mean        std     min      25%     50%      75%     max\nyear   74.0  1986.5  21.505813  1950.0  1968.25  1986.5  2004.75  2023.0",
      "text/html": "<div>\n<style scoped>\n    .dataframe tbody tr th:only-of-type {\n        vertical-align: middle;\n    }\n\n    .dataframe tbody tr th {\n        vertical-align: top;\n    }\n\n    .dataframe thead th {\n        text-align: right;\n    }\n</style>\n<table border=\"1\" class=\"dataframe\">\n  <thead>\n    <tr style=\"text-align: right;\">\n      <th></th>\n      <th>count</th>\n      <th>mean</th>\n      <th>std</th>\n      <th>min</th>\n      <th>25%</th>\n      <th>50%</th>\n      <th>75%</th>\n      <th>max</th>\n    </tr>\n  </thead>\n  <tbody>\n    <tr>\n      <th>year</th>\n      <td>74.0</td>\n      <td>1986.5</td>\n      <td>21.505813</td>\n      <td>1950.0</td>\n      <td>1968.25</td>\n      <td>1986.5</td>\n      <td>2004.75</td>\n      <td>2023.0</td>\n    </tr>\n  </tbody>\n</table>\n</div>"
     },
     "metadata": {},
     "output_type": "display_data"
    },
    {
     "name": "stdout",
     "output_type": "stream",
     "text": [
      "Races\n"
     ]
    },
    {
     "data": {
      "text/plain": "      raceId  year  round  circuitId                      name        date   \n0          1  2009      1          1     Australian Grand Prix  2009-03-29  \\\n1          2  2009      2          2      Malaysian Grand Prix  2009-04-05   \n2          3  2009      3         17        Chinese Grand Prix  2009-04-19   \n3          4  2009      4          3        Bahrain Grand Prix  2009-04-26   \n4          5  2009      5          4        Spanish Grand Prix  2009-05-10   \n...      ...   ...    ...        ...                       ...         ...   \n1097    1116  2023     19         69  United States Grand Prix  2023-10-22   \n1098    1117  2023     20         32    Mexico City Grand Prix  2023-10-29   \n1099    1118  2023     21         18      São Paulo Grand Prix  2023-11-05   \n1100    1119  2023     22         80      Las Vegas Grand Prix  2023-11-19   \n1101    1120  2023     23         24      Abu Dhabi Grand Prix  2023-11-26   \n\n          time                                                url    fp1_date   \n0     06:00:00  http://en.wikipedia.org/wiki/2009_Australian_G...          \\N  \\\n1     09:00:00  http://en.wikipedia.org/wiki/2009_Malaysian_Gr...          \\N   \n2     07:00:00  http://en.wikipedia.org/wiki/2009_Chinese_Gran...          \\N   \n3     12:00:00  http://en.wikipedia.org/wiki/2009_Bahrain_Gran...          \\N   \n4     12:00:00  http://en.wikipedia.org/wiki/2009_Spanish_Gran...          \\N   \n...        ...                                                ...         ...   \n1097  19:00:00  https://en.wikipedia.org/wiki/2023_United_Stat...  2023-10-20   \n1098  20:00:00  https://en.wikipedia.org/wiki/2023_Mexico_City...  2023-10-27   \n1099  17:00:00  https://en.wikipedia.org/wiki/2023_S%C3%A3o_Pa...  2023-11-03   \n1100  06:00:00  https://en.wikipedia.org/wiki/2023_Las_Vegas_G...  2023-11-17   \n1101  13:00:00  https://en.wikipedia.org/wiki/2023_Abu_Dhabi_G...  2023-11-24   \n\n      fp1_time    fp2_date  fp2_time    fp3_date  fp3_time  quali_date   \n0           \\N          \\N        \\N          \\N        \\N          \\N  \\\n1           \\N          \\N        \\N          \\N        \\N          \\N   \n2           \\N          \\N        \\N          \\N        \\N          \\N   \n3           \\N          \\N        \\N          \\N        \\N          \\N   \n4           \\N          \\N        \\N          \\N        \\N          \\N   \n...        ...         ...       ...         ...       ...         ...   \n1097  17:30:00  2023-10-21  18:00:00          \\N        \\N  2023-10-20   \n1098  18:30:00  2023-10-27  22:00:00  2023-10-28  17:30:00  2023-10-28   \n1099  14:30:00  2023-11-04  14:30:00          \\N        \\N  2023-11-03   \n1100  04:30:00  2023-11-17  08:00:00  2023-11-18  04:30:00  2023-11-18   \n1101  09:30:00  2023-11-24  13:00:00  2023-11-25  10:30:00  2023-11-25   \n\n     quali_time sprint_date sprint_time  \n0            \\N          \\N          \\N  \n1            \\N          \\N          \\N  \n2            \\N          \\N          \\N  \n3            \\N          \\N          \\N  \n4            \\N          \\N          \\N  \n...         ...         ...         ...  \n1097   21:00:00  2023-10-21    22:00:00  \n1098   21:00:00          \\N          \\N  \n1099   18:00:00  2023-11-04    18:30:00  \n1100   08:00:00          \\N          \\N  \n1101   14:00:00          \\N          \\N  \n\n[1102 rows x 18 columns]",
      "text/html": "<div>\n<style scoped>\n    .dataframe tbody tr th:only-of-type {\n        vertical-align: middle;\n    }\n\n    .dataframe tbody tr th {\n        vertical-align: top;\n    }\n\n    .dataframe thead th {\n        text-align: right;\n    }\n</style>\n<table border=\"1\" class=\"dataframe\">\n  <thead>\n    <tr style=\"text-align: right;\">\n      <th></th>\n      <th>raceId</th>\n      <th>year</th>\n      <th>round</th>\n      <th>circuitId</th>\n      <th>name</th>\n      <th>date</th>\n      <th>time</th>\n      <th>url</th>\n      <th>fp1_date</th>\n      <th>fp1_time</th>\n      <th>fp2_date</th>\n      <th>fp2_time</th>\n      <th>fp3_date</th>\n      <th>fp3_time</th>\n      <th>quali_date</th>\n      <th>quali_time</th>\n      <th>sprint_date</th>\n      <th>sprint_time</th>\n    </tr>\n  </thead>\n  <tbody>\n    <tr>\n      <th>0</th>\n      <td>1</td>\n      <td>2009</td>\n      <td>1</td>\n      <td>1</td>\n      <td>Australian Grand Prix</td>\n      <td>2009-03-29</td>\n      <td>06:00:00</td>\n      <td>http://en.wikipedia.org/wiki/2009_Australian_G...</td>\n      <td>\\N</td>\n      <td>\\N</td>\n      <td>\\N</td>\n      <td>\\N</td>\n      <td>\\N</td>\n      <td>\\N</td>\n      <td>\\N</td>\n      <td>\\N</td>\n      <td>\\N</td>\n      <td>\\N</td>\n    </tr>\n    <tr>\n      <th>1</th>\n      <td>2</td>\n      <td>2009</td>\n      <td>2</td>\n      <td>2</td>\n      <td>Malaysian Grand Prix</td>\n      <td>2009-04-05</td>\n      <td>09:00:00</td>\n      <td>http://en.wikipedia.org/wiki/2009_Malaysian_Gr...</td>\n      <td>\\N</td>\n      <td>\\N</td>\n      <td>\\N</td>\n      <td>\\N</td>\n      <td>\\N</td>\n      <td>\\N</td>\n      <td>\\N</td>\n      <td>\\N</td>\n      <td>\\N</td>\n      <td>\\N</td>\n    </tr>\n    <tr>\n      <th>2</th>\n      <td>3</td>\n      <td>2009</td>\n      <td>3</td>\n      <td>17</td>\n      <td>Chinese Grand Prix</td>\n      <td>2009-04-19</td>\n      <td>07:00:00</td>\n      <td>http://en.wikipedia.org/wiki/2009_Chinese_Gran...</td>\n      <td>\\N</td>\n      <td>\\N</td>\n      <td>\\N</td>\n      <td>\\N</td>\n      <td>\\N</td>\n      <td>\\N</td>\n      <td>\\N</td>\n      <td>\\N</td>\n      <td>\\N</td>\n      <td>\\N</td>\n    </tr>\n    <tr>\n      <th>3</th>\n      <td>4</td>\n      <td>2009</td>\n      <td>4</td>\n      <td>3</td>\n      <td>Bahrain Grand Prix</td>\n      <td>2009-04-26</td>\n      <td>12:00:00</td>\n      <td>http://en.wikipedia.org/wiki/2009_Bahrain_Gran...</td>\n      <td>\\N</td>\n      <td>\\N</td>\n      <td>\\N</td>\n      <td>\\N</td>\n      <td>\\N</td>\n      <td>\\N</td>\n      <td>\\N</td>\n      <td>\\N</td>\n      <td>\\N</td>\n      <td>\\N</td>\n    </tr>\n    <tr>\n      <th>4</th>\n      <td>5</td>\n      <td>2009</td>\n      <td>5</td>\n      <td>4</td>\n      <td>Spanish Grand Prix</td>\n      <td>2009-05-10</td>\n      <td>12:00:00</td>\n      <td>http://en.wikipedia.org/wiki/2009_Spanish_Gran...</td>\n      <td>\\N</td>\n      <td>\\N</td>\n      <td>\\N</td>\n      <td>\\N</td>\n      <td>\\N</td>\n      <td>\\N</td>\n      <td>\\N</td>\n      <td>\\N</td>\n      <td>\\N</td>\n      <td>\\N</td>\n    </tr>\n    <tr>\n      <th>...</th>\n      <td>...</td>\n      <td>...</td>\n      <td>...</td>\n      <td>...</td>\n      <td>...</td>\n      <td>...</td>\n      <td>...</td>\n      <td>...</td>\n      <td>...</td>\n      <td>...</td>\n      <td>...</td>\n      <td>...</td>\n      <td>...</td>\n      <td>...</td>\n      <td>...</td>\n      <td>...</td>\n      <td>...</td>\n      <td>...</td>\n    </tr>\n    <tr>\n      <th>1097</th>\n      <td>1116</td>\n      <td>2023</td>\n      <td>19</td>\n      <td>69</td>\n      <td>United States Grand Prix</td>\n      <td>2023-10-22</td>\n      <td>19:00:00</td>\n      <td>https://en.wikipedia.org/wiki/2023_United_Stat...</td>\n      <td>2023-10-20</td>\n      <td>17:30:00</td>\n      <td>2023-10-21</td>\n      <td>18:00:00</td>\n      <td>\\N</td>\n      <td>\\N</td>\n      <td>2023-10-20</td>\n      <td>21:00:00</td>\n      <td>2023-10-21</td>\n      <td>22:00:00</td>\n    </tr>\n    <tr>\n      <th>1098</th>\n      <td>1117</td>\n      <td>2023</td>\n      <td>20</td>\n      <td>32</td>\n      <td>Mexico City Grand Prix</td>\n      <td>2023-10-29</td>\n      <td>20:00:00</td>\n      <td>https://en.wikipedia.org/wiki/2023_Mexico_City...</td>\n      <td>2023-10-27</td>\n      <td>18:30:00</td>\n      <td>2023-10-27</td>\n      <td>22:00:00</td>\n      <td>2023-10-28</td>\n      <td>17:30:00</td>\n      <td>2023-10-28</td>\n      <td>21:00:00</td>\n      <td>\\N</td>\n      <td>\\N</td>\n    </tr>\n    <tr>\n      <th>1099</th>\n      <td>1118</td>\n      <td>2023</td>\n      <td>21</td>\n      <td>18</td>\n      <td>São Paulo Grand Prix</td>\n      <td>2023-11-05</td>\n      <td>17:00:00</td>\n      <td>https://en.wikipedia.org/wiki/2023_S%C3%A3o_Pa...</td>\n      <td>2023-11-03</td>\n      <td>14:30:00</td>\n      <td>2023-11-04</td>\n      <td>14:30:00</td>\n      <td>\\N</td>\n      <td>\\N</td>\n      <td>2023-11-03</td>\n      <td>18:00:00</td>\n      <td>2023-11-04</td>\n      <td>18:30:00</td>\n    </tr>\n    <tr>\n      <th>1100</th>\n      <td>1119</td>\n      <td>2023</td>\n      <td>22</td>\n      <td>80</td>\n      <td>Las Vegas Grand Prix</td>\n      <td>2023-11-19</td>\n      <td>06:00:00</td>\n      <td>https://en.wikipedia.org/wiki/2023_Las_Vegas_G...</td>\n      <td>2023-11-17</td>\n      <td>04:30:00</td>\n      <td>2023-11-17</td>\n      <td>08:00:00</td>\n      <td>2023-11-18</td>\n      <td>04:30:00</td>\n      <td>2023-11-18</td>\n      <td>08:00:00</td>\n      <td>\\N</td>\n      <td>\\N</td>\n    </tr>\n    <tr>\n      <th>1101</th>\n      <td>1120</td>\n      <td>2023</td>\n      <td>23</td>\n      <td>24</td>\n      <td>Abu Dhabi Grand Prix</td>\n      <td>2023-11-26</td>\n      <td>13:00:00</td>\n      <td>https://en.wikipedia.org/wiki/2023_Abu_Dhabi_G...</td>\n      <td>2023-11-24</td>\n      <td>09:30:00</td>\n      <td>2023-11-24</td>\n      <td>13:00:00</td>\n      <td>2023-11-25</td>\n      <td>10:30:00</td>\n      <td>2023-11-25</td>\n      <td>14:00:00</td>\n      <td>\\N</td>\n      <td>\\N</td>\n    </tr>\n  </tbody>\n</table>\n<p>1102 rows × 18 columns</p>\n</div>"
     },
     "metadata": {},
     "output_type": "display_data"
    },
    {
     "data": {
      "text/plain": "            count         mean         std     min      25%     50%      75%   \nraceId     1102.0   553.853902  321.706151     1.0   276.25   551.5   826.75  \\\nyear       1102.0  1992.049002   20.308639  1950.0  1976.00  1994.0  2010.00   \nround      1102.0     8.507260    5.097545     1.0     4.00     8.0    12.00   \ncircuitId  1102.0    23.697822   19.337398     1.0     9.00    18.0    34.00   \n\n              max  \nraceId     1120.0  \nyear       2023.0  \nround        23.0  \ncircuitId    80.0  ",
      "text/html": "<div>\n<style scoped>\n    .dataframe tbody tr th:only-of-type {\n        vertical-align: middle;\n    }\n\n    .dataframe tbody tr th {\n        vertical-align: top;\n    }\n\n    .dataframe thead th {\n        text-align: right;\n    }\n</style>\n<table border=\"1\" class=\"dataframe\">\n  <thead>\n    <tr style=\"text-align: right;\">\n      <th></th>\n      <th>count</th>\n      <th>mean</th>\n      <th>std</th>\n      <th>min</th>\n      <th>25%</th>\n      <th>50%</th>\n      <th>75%</th>\n      <th>max</th>\n    </tr>\n  </thead>\n  <tbody>\n    <tr>\n      <th>raceId</th>\n      <td>1102.0</td>\n      <td>553.853902</td>\n      <td>321.706151</td>\n      <td>1.0</td>\n      <td>276.25</td>\n      <td>551.5</td>\n      <td>826.75</td>\n      <td>1120.0</td>\n    </tr>\n    <tr>\n      <th>year</th>\n      <td>1102.0</td>\n      <td>1992.049002</td>\n      <td>20.308639</td>\n      <td>1950.0</td>\n      <td>1976.00</td>\n      <td>1994.0</td>\n      <td>2010.00</td>\n      <td>2023.0</td>\n    </tr>\n    <tr>\n      <th>round</th>\n      <td>1102.0</td>\n      <td>8.507260</td>\n      <td>5.097545</td>\n      <td>1.0</td>\n      <td>4.00</td>\n      <td>8.0</td>\n      <td>12.00</td>\n      <td>23.0</td>\n    </tr>\n    <tr>\n      <th>circuitId</th>\n      <td>1102.0</td>\n      <td>23.697822</td>\n      <td>19.337398</td>\n      <td>1.0</td>\n      <td>9.00</td>\n      <td>18.0</td>\n      <td>34.00</td>\n      <td>80.0</td>\n    </tr>\n  </tbody>\n</table>\n</div>"
     },
     "metadata": {},
     "output_type": "display_data"
    }
   ],
   "source": [
    "# Load and review Season and Race information\n",
    "seasons_df = pd.read_csv('data/seasons.csv')\n",
    "print(\"Seasons\")\n",
    "display(seasons_df)\n",
    "display(seasons_df.describe().T)\n",
    "races_df = pd.read_csv('data/races.csv')\n",
    "print(\"Races\")\n",
    "display(races_df)\n",
    "display(races_df.describe().T)"
   ],
   "metadata": {
    "collapsed": false,
    "ExecuteTime": {
     "end_time": "2023-08-07T04:24:21.958426200Z",
     "start_time": "2023-08-07T04:24:21.767045800Z"
    }
   }
  },
  {
   "cell_type": "markdown",
   "source": [
    "### Constructors"
   ],
   "metadata": {
    "collapsed": false
   }
  },
  {
   "cell_type": "code",
   "execution_count": 13,
   "outputs": [
    {
     "name": "stdout",
     "output_type": "stream",
     "text": [
      "Constructors\n"
     ]
    },
    {
     "data": {
      "text/plain": "     constructorId constructorRef            name nationality   \n0                1        mclaren         McLaren     British  \\\n1                2     bmw_sauber      BMW Sauber      German   \n2                3       williams        Williams     British   \n3                4        renault         Renault      French   \n4                5     toro_rosso      Toro Rosso     Italian   \n..             ...            ...             ...         ...   \n206            209          manor  Manor Marussia     British   \n207            210           haas    Haas F1 Team    American   \n208            211   racing_point    Racing Point     British   \n209            213     alphatauri      AlphaTauri     Italian   \n210            214         alpine  Alpine F1 Team      French   \n\n                                                   url  \n0                 http://en.wikipedia.org/wiki/McLaren  \n1              http://en.wikipedia.org/wiki/BMW_Sauber  \n2    http://en.wikipedia.org/wiki/Williams_Grand_Pr...  \n3    http://en.wikipedia.org/wiki/Renault_in_Formul...  \n4     http://en.wikipedia.org/wiki/Scuderia_Toro_Rosso  \n..                                                 ...  \n206      http://en.wikipedia.org/wiki/Manor_Motorsport  \n207          http://en.wikipedia.org/wiki/Haas_F1_Team  \n208  http://en.wikipedia.org/wiki/Racing_Point_F1_Team  \n209   http://en.wikipedia.org/wiki/Scuderia_AlphaTauri  \n210        http://en.wikipedia.org/wiki/Alpine_F1_Team  \n\n[211 rows x 5 columns]",
      "text/html": "<div>\n<style scoped>\n    .dataframe tbody tr th:only-of-type {\n        vertical-align: middle;\n    }\n\n    .dataframe tbody tr th {\n        vertical-align: top;\n    }\n\n    .dataframe thead th {\n        text-align: right;\n    }\n</style>\n<table border=\"1\" class=\"dataframe\">\n  <thead>\n    <tr style=\"text-align: right;\">\n      <th></th>\n      <th>constructorId</th>\n      <th>constructorRef</th>\n      <th>name</th>\n      <th>nationality</th>\n      <th>url</th>\n    </tr>\n  </thead>\n  <tbody>\n    <tr>\n      <th>0</th>\n      <td>1</td>\n      <td>mclaren</td>\n      <td>McLaren</td>\n      <td>British</td>\n      <td>http://en.wikipedia.org/wiki/McLaren</td>\n    </tr>\n    <tr>\n      <th>1</th>\n      <td>2</td>\n      <td>bmw_sauber</td>\n      <td>BMW Sauber</td>\n      <td>German</td>\n      <td>http://en.wikipedia.org/wiki/BMW_Sauber</td>\n    </tr>\n    <tr>\n      <th>2</th>\n      <td>3</td>\n      <td>williams</td>\n      <td>Williams</td>\n      <td>British</td>\n      <td>http://en.wikipedia.org/wiki/Williams_Grand_Pr...</td>\n    </tr>\n    <tr>\n      <th>3</th>\n      <td>4</td>\n      <td>renault</td>\n      <td>Renault</td>\n      <td>French</td>\n      <td>http://en.wikipedia.org/wiki/Renault_in_Formul...</td>\n    </tr>\n    <tr>\n      <th>4</th>\n      <td>5</td>\n      <td>toro_rosso</td>\n      <td>Toro Rosso</td>\n      <td>Italian</td>\n      <td>http://en.wikipedia.org/wiki/Scuderia_Toro_Rosso</td>\n    </tr>\n    <tr>\n      <th>...</th>\n      <td>...</td>\n      <td>...</td>\n      <td>...</td>\n      <td>...</td>\n      <td>...</td>\n    </tr>\n    <tr>\n      <th>206</th>\n      <td>209</td>\n      <td>manor</td>\n      <td>Manor Marussia</td>\n      <td>British</td>\n      <td>http://en.wikipedia.org/wiki/Manor_Motorsport</td>\n    </tr>\n    <tr>\n      <th>207</th>\n      <td>210</td>\n      <td>haas</td>\n      <td>Haas F1 Team</td>\n      <td>American</td>\n      <td>http://en.wikipedia.org/wiki/Haas_F1_Team</td>\n    </tr>\n    <tr>\n      <th>208</th>\n      <td>211</td>\n      <td>racing_point</td>\n      <td>Racing Point</td>\n      <td>British</td>\n      <td>http://en.wikipedia.org/wiki/Racing_Point_F1_Team</td>\n    </tr>\n    <tr>\n      <th>209</th>\n      <td>213</td>\n      <td>alphatauri</td>\n      <td>AlphaTauri</td>\n      <td>Italian</td>\n      <td>http://en.wikipedia.org/wiki/Scuderia_AlphaTauri</td>\n    </tr>\n    <tr>\n      <th>210</th>\n      <td>214</td>\n      <td>alpine</td>\n      <td>Alpine F1 Team</td>\n      <td>French</td>\n      <td>http://en.wikipedia.org/wiki/Alpine_F1_Team</td>\n    </tr>\n  </tbody>\n</table>\n<p>211 rows × 5 columns</p>\n</div>"
     },
     "metadata": {},
     "output_type": "display_data"
    },
    {
     "data": {
      "text/plain": "               count        mean        std  min   25%    50%    75%    max\nconstructorId  211.0  107.037915  61.653629  1.0  54.5  107.0  159.5  214.0",
      "text/html": "<div>\n<style scoped>\n    .dataframe tbody tr th:only-of-type {\n        vertical-align: middle;\n    }\n\n    .dataframe tbody tr th {\n        vertical-align: top;\n    }\n\n    .dataframe thead th {\n        text-align: right;\n    }\n</style>\n<table border=\"1\" class=\"dataframe\">\n  <thead>\n    <tr style=\"text-align: right;\">\n      <th></th>\n      <th>count</th>\n      <th>mean</th>\n      <th>std</th>\n      <th>min</th>\n      <th>25%</th>\n      <th>50%</th>\n      <th>75%</th>\n      <th>max</th>\n    </tr>\n  </thead>\n  <tbody>\n    <tr>\n      <th>constructorId</th>\n      <td>211.0</td>\n      <td>107.037915</td>\n      <td>61.653629</td>\n      <td>1.0</td>\n      <td>54.5</td>\n      <td>107.0</td>\n      <td>159.5</td>\n      <td>214.0</td>\n    </tr>\n  </tbody>\n</table>\n</div>"
     },
     "metadata": {},
     "output_type": "display_data"
    },
    {
     "name": "stdout",
     "output_type": "stream",
     "text": [
      "Constructor Results\n"
     ]
    },
    {
     "data": {
      "text/plain": "       constructorResultsId  raceId  constructorId  points status\n0                         1      18              1    14.0     \\N\n1                         2      18              2     8.0     \\N\n2                         3      18              3     9.0     \\N\n3                         4      18              4     5.0     \\N\n4                         5      18              5     2.0     \\N\n...                     ...     ...            ...     ...    ...\n12165                 16665    1096            117     5.0     \\N\n12166                 16666    1096            213     0.0     \\N\n12167                 16667    1096             51     0.0     \\N\n12168                 16668    1096              3     0.0     \\N\n12169                 16669    1096            210     0.0     \\N\n\n[12170 rows x 5 columns]",
      "text/html": "<div>\n<style scoped>\n    .dataframe tbody tr th:only-of-type {\n        vertical-align: middle;\n    }\n\n    .dataframe tbody tr th {\n        vertical-align: top;\n    }\n\n    .dataframe thead th {\n        text-align: right;\n    }\n</style>\n<table border=\"1\" class=\"dataframe\">\n  <thead>\n    <tr style=\"text-align: right;\">\n      <th></th>\n      <th>constructorResultsId</th>\n      <th>raceId</th>\n      <th>constructorId</th>\n      <th>points</th>\n      <th>status</th>\n    </tr>\n  </thead>\n  <tbody>\n    <tr>\n      <th>0</th>\n      <td>1</td>\n      <td>18</td>\n      <td>1</td>\n      <td>14.0</td>\n      <td>\\N</td>\n    </tr>\n    <tr>\n      <th>1</th>\n      <td>2</td>\n      <td>18</td>\n      <td>2</td>\n      <td>8.0</td>\n      <td>\\N</td>\n    </tr>\n    <tr>\n      <th>2</th>\n      <td>3</td>\n      <td>18</td>\n      <td>3</td>\n      <td>9.0</td>\n      <td>\\N</td>\n    </tr>\n    <tr>\n      <th>3</th>\n      <td>4</td>\n      <td>18</td>\n      <td>4</td>\n      <td>5.0</td>\n      <td>\\N</td>\n    </tr>\n    <tr>\n      <th>4</th>\n      <td>5</td>\n      <td>18</td>\n      <td>5</td>\n      <td>2.0</td>\n      <td>\\N</td>\n    </tr>\n    <tr>\n      <th>...</th>\n      <td>...</td>\n      <td>...</td>\n      <td>...</td>\n      <td>...</td>\n      <td>...</td>\n    </tr>\n    <tr>\n      <th>12165</th>\n      <td>16665</td>\n      <td>1096</td>\n      <td>117</td>\n      <td>5.0</td>\n      <td>\\N</td>\n    </tr>\n    <tr>\n      <th>12166</th>\n      <td>16666</td>\n      <td>1096</td>\n      <td>213</td>\n      <td>0.0</td>\n      <td>\\N</td>\n    </tr>\n    <tr>\n      <th>12167</th>\n      <td>16667</td>\n      <td>1096</td>\n      <td>51</td>\n      <td>0.0</td>\n      <td>\\N</td>\n    </tr>\n    <tr>\n      <th>12168</th>\n      <td>16668</td>\n      <td>1096</td>\n      <td>3</td>\n      <td>0.0</td>\n      <td>\\N</td>\n    </tr>\n    <tr>\n      <th>12169</th>\n      <td>16669</td>\n      <td>1096</td>\n      <td>210</td>\n      <td>0.0</td>\n      <td>\\N</td>\n    </tr>\n  </tbody>\n</table>\n<p>12170 rows × 5 columns</p>\n</div>"
     },
     "metadata": {},
     "output_type": "display_data"
    },
    {
     "data": {
      "text/plain": "                        count         mean          std  min      25%     50%   \nconstructorResultsId  12170.0  8106.815037  5523.404639  1.0  3043.25  6085.5  \\\nraceId                12170.0   505.922350   298.367868  1.0   278.00   474.0   \nconstructorId         12170.0    44.160394    57.248981  1.0     6.00    22.0   \npoints                12170.0     3.788661     7.427196  0.0     0.00     0.0   \n\n                           75%      max  \nconstructorResultsId  13593.75  16669.0  \nraceId                  713.00   1096.0  \nconstructorId            52.00    214.0  \npoints                    4.00     66.0  ",
      "text/html": "<div>\n<style scoped>\n    .dataframe tbody tr th:only-of-type {\n        vertical-align: middle;\n    }\n\n    .dataframe tbody tr th {\n        vertical-align: top;\n    }\n\n    .dataframe thead th {\n        text-align: right;\n    }\n</style>\n<table border=\"1\" class=\"dataframe\">\n  <thead>\n    <tr style=\"text-align: right;\">\n      <th></th>\n      <th>count</th>\n      <th>mean</th>\n      <th>std</th>\n      <th>min</th>\n      <th>25%</th>\n      <th>50%</th>\n      <th>75%</th>\n      <th>max</th>\n    </tr>\n  </thead>\n  <tbody>\n    <tr>\n      <th>constructorResultsId</th>\n      <td>12170.0</td>\n      <td>8106.815037</td>\n      <td>5523.404639</td>\n      <td>1.0</td>\n      <td>3043.25</td>\n      <td>6085.5</td>\n      <td>13593.75</td>\n      <td>16669.0</td>\n    </tr>\n    <tr>\n      <th>raceId</th>\n      <td>12170.0</td>\n      <td>505.922350</td>\n      <td>298.367868</td>\n      <td>1.0</td>\n      <td>278.00</td>\n      <td>474.0</td>\n      <td>713.00</td>\n      <td>1096.0</td>\n    </tr>\n    <tr>\n      <th>constructorId</th>\n      <td>12170.0</td>\n      <td>44.160394</td>\n      <td>57.248981</td>\n      <td>1.0</td>\n      <td>6.00</td>\n      <td>22.0</td>\n      <td>52.00</td>\n      <td>214.0</td>\n    </tr>\n    <tr>\n      <th>points</th>\n      <td>12170.0</td>\n      <td>3.788661</td>\n      <td>7.427196</td>\n      <td>0.0</td>\n      <td>0.00</td>\n      <td>0.0</td>\n      <td>4.00</td>\n      <td>66.0</td>\n    </tr>\n  </tbody>\n</table>\n</div>"
     },
     "metadata": {},
     "output_type": "display_data"
    },
    {
     "name": "stdout",
     "output_type": "stream",
     "text": [
      "Constructor Standings\n"
     ]
    },
    {
     "data": {
      "text/plain": "       constructorStandingsId  raceId  constructorId  points  position   \n0                           1      18              1    14.0         1  \\\n1                           2      18              2     8.0         3   \n2                           3      18              3     9.0         2   \n3                           4      18              4     5.0         4   \n4                           5      18              5     2.0         5   \n...                       ...     ...            ...     ...       ...   \n12936                   28408    1098            210     0.0         6   \n12937                   28409    1098              1     0.0         7   \n12938                   28410    1098            131     0.0         8   \n12939                   28411    1098              9     0.0         9   \n12940                   28412    1098              3     0.0        10   \n\n      positionText  wins  \n0                1     1  \n1                3     0  \n2                2     0  \n3                4     0  \n4                5     0  \n...            ...   ...  \n12936            6     0  \n12937            7     0  \n12938            8     0  \n12939            9     0  \n12940           10     0  \n\n[12941 rows x 7 columns]",
      "text/html": "<div>\n<style scoped>\n    .dataframe tbody tr th:only-of-type {\n        vertical-align: middle;\n    }\n\n    .dataframe tbody tr th {\n        vertical-align: top;\n    }\n\n    .dataframe thead th {\n        text-align: right;\n    }\n</style>\n<table border=\"1\" class=\"dataframe\">\n  <thead>\n    <tr style=\"text-align: right;\">\n      <th></th>\n      <th>constructorStandingsId</th>\n      <th>raceId</th>\n      <th>constructorId</th>\n      <th>points</th>\n      <th>position</th>\n      <th>positionText</th>\n      <th>wins</th>\n    </tr>\n  </thead>\n  <tbody>\n    <tr>\n      <th>0</th>\n      <td>1</td>\n      <td>18</td>\n      <td>1</td>\n      <td>14.0</td>\n      <td>1</td>\n      <td>1</td>\n      <td>1</td>\n    </tr>\n    <tr>\n      <th>1</th>\n      <td>2</td>\n      <td>18</td>\n      <td>2</td>\n      <td>8.0</td>\n      <td>3</td>\n      <td>3</td>\n      <td>0</td>\n    </tr>\n    <tr>\n      <th>2</th>\n      <td>3</td>\n      <td>18</td>\n      <td>3</td>\n      <td>9.0</td>\n      <td>2</td>\n      <td>2</td>\n      <td>0</td>\n    </tr>\n    <tr>\n      <th>3</th>\n      <td>4</td>\n      <td>18</td>\n      <td>4</td>\n      <td>5.0</td>\n      <td>4</td>\n      <td>4</td>\n      <td>0</td>\n    </tr>\n    <tr>\n      <th>4</th>\n      <td>5</td>\n      <td>18</td>\n      <td>5</td>\n      <td>2.0</td>\n      <td>5</td>\n      <td>5</td>\n      <td>0</td>\n    </tr>\n    <tr>\n      <th>...</th>\n      <td>...</td>\n      <td>...</td>\n      <td>...</td>\n      <td>...</td>\n      <td>...</td>\n      <td>...</td>\n      <td>...</td>\n    </tr>\n    <tr>\n      <th>12936</th>\n      <td>28408</td>\n      <td>1098</td>\n      <td>210</td>\n      <td>0.0</td>\n      <td>6</td>\n      <td>6</td>\n      <td>0</td>\n    </tr>\n    <tr>\n      <th>12937</th>\n      <td>28409</td>\n      <td>1098</td>\n      <td>1</td>\n      <td>0.0</td>\n      <td>7</td>\n      <td>7</td>\n      <td>0</td>\n    </tr>\n    <tr>\n      <th>12938</th>\n      <td>28410</td>\n      <td>1098</td>\n      <td>131</td>\n      <td>0.0</td>\n      <td>8</td>\n      <td>8</td>\n      <td>0</td>\n    </tr>\n    <tr>\n      <th>12939</th>\n      <td>28411</td>\n      <td>1098</td>\n      <td>9</td>\n      <td>0.0</td>\n      <td>9</td>\n      <td>9</td>\n      <td>0</td>\n    </tr>\n    <tr>\n      <th>12940</th>\n      <td>28412</td>\n      <td>1098</td>\n      <td>3</td>\n      <td>0.0</td>\n      <td>10</td>\n      <td>10</td>\n      <td>0</td>\n    </tr>\n  </tbody>\n</table>\n<p>12941 rows × 7 columns</p>\n</div>"
     },
     "metadata": {},
     "output_type": "display_data"
    },
    {
     "data": {
      "text/plain": "                          count          mean          std  min     25%   \nconstructorStandingsId  12941.0  16573.817402  8741.992501  1.0  8771.0  \\\nraceId                  12941.0    515.004946   292.559215  1.0   294.0   \nconstructorId           12941.0     48.070474    59.400459  1.0     6.0   \npoints                  12941.0     33.776486    76.875428  0.0     0.0   \nposition                12941.0      7.286068     4.386319  1.0     4.0   \nwins                    12941.0      0.678927     1.818736  0.0     0.0   \n\n                            50%      75%      max  \nconstructorStandingsId  20124.0  24592.0  28412.0  \nraceId                    494.0    714.0   1098.0  \nconstructorId              25.0     57.0    214.0  \npoints                      6.0     31.0    765.0  \nposition                    7.0     10.0     22.0  \nwins                        0.0      0.0     19.0  ",
      "text/html": "<div>\n<style scoped>\n    .dataframe tbody tr th:only-of-type {\n        vertical-align: middle;\n    }\n\n    .dataframe tbody tr th {\n        vertical-align: top;\n    }\n\n    .dataframe thead th {\n        text-align: right;\n    }\n</style>\n<table border=\"1\" class=\"dataframe\">\n  <thead>\n    <tr style=\"text-align: right;\">\n      <th></th>\n      <th>count</th>\n      <th>mean</th>\n      <th>std</th>\n      <th>min</th>\n      <th>25%</th>\n      <th>50%</th>\n      <th>75%</th>\n      <th>max</th>\n    </tr>\n  </thead>\n  <tbody>\n    <tr>\n      <th>constructorStandingsId</th>\n      <td>12941.0</td>\n      <td>16573.817402</td>\n      <td>8741.992501</td>\n      <td>1.0</td>\n      <td>8771.0</td>\n      <td>20124.0</td>\n      <td>24592.0</td>\n      <td>28412.0</td>\n    </tr>\n    <tr>\n      <th>raceId</th>\n      <td>12941.0</td>\n      <td>515.004946</td>\n      <td>292.559215</td>\n      <td>1.0</td>\n      <td>294.0</td>\n      <td>494.0</td>\n      <td>714.0</td>\n      <td>1098.0</td>\n    </tr>\n    <tr>\n      <th>constructorId</th>\n      <td>12941.0</td>\n      <td>48.070474</td>\n      <td>59.400459</td>\n      <td>1.0</td>\n      <td>6.0</td>\n      <td>25.0</td>\n      <td>57.0</td>\n      <td>214.0</td>\n    </tr>\n    <tr>\n      <th>points</th>\n      <td>12941.0</td>\n      <td>33.776486</td>\n      <td>76.875428</td>\n      <td>0.0</td>\n      <td>0.0</td>\n      <td>6.0</td>\n      <td>31.0</td>\n      <td>765.0</td>\n    </tr>\n    <tr>\n      <th>position</th>\n      <td>12941.0</td>\n      <td>7.286068</td>\n      <td>4.386319</td>\n      <td>1.0</td>\n      <td>4.0</td>\n      <td>7.0</td>\n      <td>10.0</td>\n      <td>22.0</td>\n    </tr>\n    <tr>\n      <th>wins</th>\n      <td>12941.0</td>\n      <td>0.678927</td>\n      <td>1.818736</td>\n      <td>0.0</td>\n      <td>0.0</td>\n      <td>0.0</td>\n      <td>0.0</td>\n      <td>19.0</td>\n    </tr>\n  </tbody>\n</table>\n</div>"
     },
     "metadata": {},
     "output_type": "display_data"
    }
   ],
   "source": [
    "# Load and review Constructor information\n",
    "constructors_df = pd.read_csv('data/constructors.csv')\n",
    "constructor_results_df = pd.read_csv(\"data/constructor_results.csv\")\n",
    "constructor_standings_df = pd.read_csv(\"data/constructor_standings.csv\")\n",
    "print(\"Constructors\")\n",
    "display(constructors_df)\n",
    "display(constructors_df.describe().T)\n",
    "print(\"Constructor Results\")\n",
    "display(constructor_results_df)\n",
    "display(constructor_results_df.describe().T)\n",
    "print(\"Constructor Standings\")\n",
    "display(constructor_standings_df)\n",
    "display(constructor_standings_df.describe().T)"
   ],
   "metadata": {
    "collapsed": false,
    "ExecuteTime": {
     "end_time": "2023-08-07T04:28:45.459136400Z",
     "start_time": "2023-08-07T04:28:45.301954400Z"
    }
   }
  },
  {
   "cell_type": "markdown",
   "source": [
    "### Drivers\n"
   ],
   "metadata": {
    "collapsed": false
   }
  },
  {
   "cell_type": "code",
   "execution_count": 15,
   "outputs": [
    {
     "name": "stdout",
     "output_type": "stream",
     "text": [
      "Drivers\n"
     ]
    },
    {
     "data": {
      "text/plain": "     driverId        driverRef number code  forename     surname         dob   \n0           1         hamilton     44  HAM     Lewis    Hamilton  1985-01-07  \\\n1           2         heidfeld     \\N  HEI      Nick    Heidfeld  1977-05-10   \n2           3          rosberg      6  ROS      Nico     Rosberg  1985-06-27   \n3           4           alonso     14  ALO  Fernando      Alonso  1981-07-29   \n4           5       kovalainen     \\N  KOV    Heikki  Kovalainen  1981-10-19   \n..        ...              ...    ...  ...       ...         ...         ...   \n852       854  mick_schumacher     47  MSC      Mick  Schumacher  1999-03-22   \n853       855             zhou     24  ZHO    Guanyu        Zhou  1999-05-30   \n854       856         de_vries     45  DEV      Nyck    de Vries  1995-02-06   \n855       857          piastri     81  PIA     Oscar     Piastri  2001-04-06   \n856       858         sargeant      2  SAR     Logan    Sargeant  2000-12-31   \n\n    nationality                                             url  \n0       British     http://en.wikipedia.org/wiki/Lewis_Hamilton  \n1        German      http://en.wikipedia.org/wiki/Nick_Heidfeld  \n2        German       http://en.wikipedia.org/wiki/Nico_Rosberg  \n3       Spanish    http://en.wikipedia.org/wiki/Fernando_Alonso  \n4       Finnish  http://en.wikipedia.org/wiki/Heikki_Kovalainen  \n..          ...                                             ...  \n852      German    http://en.wikipedia.org/wiki/Mick_Schumacher  \n853     Chinese        http://en.wikipedia.org/wiki/Guanyu_Zhou  \n854       Dutch      http://en.wikipedia.org/wiki/Nyck_de_Vries  \n855  Australian      http://en.wikipedia.org/wiki/Oscar_Piastri  \n856    American     http://en.wikipedia.org/wiki/Logan_Sargeant  \n\n[857 rows x 9 columns]",
      "text/html": "<div>\n<style scoped>\n    .dataframe tbody tr th:only-of-type {\n        vertical-align: middle;\n    }\n\n    .dataframe tbody tr th {\n        vertical-align: top;\n    }\n\n    .dataframe thead th {\n        text-align: right;\n    }\n</style>\n<table border=\"1\" class=\"dataframe\">\n  <thead>\n    <tr style=\"text-align: right;\">\n      <th></th>\n      <th>driverId</th>\n      <th>driverRef</th>\n      <th>number</th>\n      <th>code</th>\n      <th>forename</th>\n      <th>surname</th>\n      <th>dob</th>\n      <th>nationality</th>\n      <th>url</th>\n    </tr>\n  </thead>\n  <tbody>\n    <tr>\n      <th>0</th>\n      <td>1</td>\n      <td>hamilton</td>\n      <td>44</td>\n      <td>HAM</td>\n      <td>Lewis</td>\n      <td>Hamilton</td>\n      <td>1985-01-07</td>\n      <td>British</td>\n      <td>http://en.wikipedia.org/wiki/Lewis_Hamilton</td>\n    </tr>\n    <tr>\n      <th>1</th>\n      <td>2</td>\n      <td>heidfeld</td>\n      <td>\\N</td>\n      <td>HEI</td>\n      <td>Nick</td>\n      <td>Heidfeld</td>\n      <td>1977-05-10</td>\n      <td>German</td>\n      <td>http://en.wikipedia.org/wiki/Nick_Heidfeld</td>\n    </tr>\n    <tr>\n      <th>2</th>\n      <td>3</td>\n      <td>rosberg</td>\n      <td>6</td>\n      <td>ROS</td>\n      <td>Nico</td>\n      <td>Rosberg</td>\n      <td>1985-06-27</td>\n      <td>German</td>\n      <td>http://en.wikipedia.org/wiki/Nico_Rosberg</td>\n    </tr>\n    <tr>\n      <th>3</th>\n      <td>4</td>\n      <td>alonso</td>\n      <td>14</td>\n      <td>ALO</td>\n      <td>Fernando</td>\n      <td>Alonso</td>\n      <td>1981-07-29</td>\n      <td>Spanish</td>\n      <td>http://en.wikipedia.org/wiki/Fernando_Alonso</td>\n    </tr>\n    <tr>\n      <th>4</th>\n      <td>5</td>\n      <td>kovalainen</td>\n      <td>\\N</td>\n      <td>KOV</td>\n      <td>Heikki</td>\n      <td>Kovalainen</td>\n      <td>1981-10-19</td>\n      <td>Finnish</td>\n      <td>http://en.wikipedia.org/wiki/Heikki_Kovalainen</td>\n    </tr>\n    <tr>\n      <th>...</th>\n      <td>...</td>\n      <td>...</td>\n      <td>...</td>\n      <td>...</td>\n      <td>...</td>\n      <td>...</td>\n      <td>...</td>\n      <td>...</td>\n      <td>...</td>\n    </tr>\n    <tr>\n      <th>852</th>\n      <td>854</td>\n      <td>mick_schumacher</td>\n      <td>47</td>\n      <td>MSC</td>\n      <td>Mick</td>\n      <td>Schumacher</td>\n      <td>1999-03-22</td>\n      <td>German</td>\n      <td>http://en.wikipedia.org/wiki/Mick_Schumacher</td>\n    </tr>\n    <tr>\n      <th>853</th>\n      <td>855</td>\n      <td>zhou</td>\n      <td>24</td>\n      <td>ZHO</td>\n      <td>Guanyu</td>\n      <td>Zhou</td>\n      <td>1999-05-30</td>\n      <td>Chinese</td>\n      <td>http://en.wikipedia.org/wiki/Guanyu_Zhou</td>\n    </tr>\n    <tr>\n      <th>854</th>\n      <td>856</td>\n      <td>de_vries</td>\n      <td>45</td>\n      <td>DEV</td>\n      <td>Nyck</td>\n      <td>de Vries</td>\n      <td>1995-02-06</td>\n      <td>Dutch</td>\n      <td>http://en.wikipedia.org/wiki/Nyck_de_Vries</td>\n    </tr>\n    <tr>\n      <th>855</th>\n      <td>857</td>\n      <td>piastri</td>\n      <td>81</td>\n      <td>PIA</td>\n      <td>Oscar</td>\n      <td>Piastri</td>\n      <td>2001-04-06</td>\n      <td>Australian</td>\n      <td>http://en.wikipedia.org/wiki/Oscar_Piastri</td>\n    </tr>\n    <tr>\n      <th>856</th>\n      <td>858</td>\n      <td>sargeant</td>\n      <td>2</td>\n      <td>SAR</td>\n      <td>Logan</td>\n      <td>Sargeant</td>\n      <td>2000-12-31</td>\n      <td>American</td>\n      <td>http://en.wikipedia.org/wiki/Logan_Sargeant</td>\n    </tr>\n  </tbody>\n</table>\n<p>857 rows × 9 columns</p>\n</div>"
     },
     "metadata": {},
     "output_type": "display_data"
    },
    {
     "data": {
      "text/plain": "          count        mean         std  min    25%    50%    75%    max\ndriverId  857.0  429.057176  247.632402  1.0  215.0  429.0  643.0  858.0",
      "text/html": "<div>\n<style scoped>\n    .dataframe tbody tr th:only-of-type {\n        vertical-align: middle;\n    }\n\n    .dataframe tbody tr th {\n        vertical-align: top;\n    }\n\n    .dataframe thead th {\n        text-align: right;\n    }\n</style>\n<table border=\"1\" class=\"dataframe\">\n  <thead>\n    <tr style=\"text-align: right;\">\n      <th></th>\n      <th>count</th>\n      <th>mean</th>\n      <th>std</th>\n      <th>min</th>\n      <th>25%</th>\n      <th>50%</th>\n      <th>75%</th>\n      <th>max</th>\n    </tr>\n  </thead>\n  <tbody>\n    <tr>\n      <th>driverId</th>\n      <td>857.0</td>\n      <td>429.057176</td>\n      <td>247.632402</td>\n      <td>1.0</td>\n      <td>215.0</td>\n      <td>429.0</td>\n      <td>643.0</td>\n      <td>858.0</td>\n    </tr>\n  </tbody>\n</table>\n</div>"
     },
     "metadata": {},
     "output_type": "display_data"
    },
    {
     "name": "stdout",
     "output_type": "stream",
     "text": [
      "Driver Results\n"
     ]
    },
    {
     "data": {
      "text/plain": "       resultId  raceId  driverId  constructorId number  grid position   \n0             1      18         1              1     22     1        1  \\\n1             2      18         2              2      3     5        2   \n2             3      18         3              3      7     7        3   \n3             4      18         4              4      5    11        4   \n4             5      18         5              1     23     3        5   \n...         ...     ...       ...            ...    ...   ...      ...   \n25835     25841    1096       854            210     47    12       16   \n25836     25842    1096       825            210     20    16       17   \n25837     25843    1096         1            131     44     5       18   \n25838     25844    1096       849              3      6    20       19   \n25839     25845    1096         4            214     14    10       \\N   \n\n      positionText  positionOrder  points  laps         time milliseconds   \n0                1              1    10.0    58  1:34:50.616      5690616  \\\n1                2              2     8.0    58       +5.478      5696094   \n2                3              3     6.0    58       +8.163      5698779   \n3                4              4     5.0    58      +17.181      5707797   \n4                5              5     4.0    58      +18.014      5708630   \n...            ...            ...     ...   ...          ...          ...   \n25835           16             16     0.0    57           \\N           \\N   \n25836           17             17     0.0    57           \\N           \\N   \n25837           18             18     0.0    55           \\N           \\N   \n25838           19             19     0.0    55           \\N           \\N   \n25839            R             20     0.0    27           \\N           \\N   \n\n      fastestLap rank fastestLapTime fastestLapSpeed  statusId  \n0             39    2       1:27.452         218.300         1  \n1             41    3       1:27.739         217.586         1  \n2             41    5       1:28.090         216.719         1  \n3             58    7       1:28.603         215.464         1  \n4             43    1       1:27.418         218.385         1  \n...          ...  ...            ...             ...       ...  \n25835         39   12       1:29.833         211.632        11  \n25836         40   20       1:31.158         208.556        11  \n25837         42   11       1:29.788         211.738         9  \n25838         45   14       1:30.309         210.517       130  \n25839         24   17       1:30.579         209.889        47  \n\n[25840 rows x 18 columns]",
      "text/html": "<div>\n<style scoped>\n    .dataframe tbody tr th:only-of-type {\n        vertical-align: middle;\n    }\n\n    .dataframe tbody tr th {\n        vertical-align: top;\n    }\n\n    .dataframe thead th {\n        text-align: right;\n    }\n</style>\n<table border=\"1\" class=\"dataframe\">\n  <thead>\n    <tr style=\"text-align: right;\">\n      <th></th>\n      <th>resultId</th>\n      <th>raceId</th>\n      <th>driverId</th>\n      <th>constructorId</th>\n      <th>number</th>\n      <th>grid</th>\n      <th>position</th>\n      <th>positionText</th>\n      <th>positionOrder</th>\n      <th>points</th>\n      <th>laps</th>\n      <th>time</th>\n      <th>milliseconds</th>\n      <th>fastestLap</th>\n      <th>rank</th>\n      <th>fastestLapTime</th>\n      <th>fastestLapSpeed</th>\n      <th>statusId</th>\n    </tr>\n  </thead>\n  <tbody>\n    <tr>\n      <th>0</th>\n      <td>1</td>\n      <td>18</td>\n      <td>1</td>\n      <td>1</td>\n      <td>22</td>\n      <td>1</td>\n      <td>1</td>\n      <td>1</td>\n      <td>1</td>\n      <td>10.0</td>\n      <td>58</td>\n      <td>1:34:50.616</td>\n      <td>5690616</td>\n      <td>39</td>\n      <td>2</td>\n      <td>1:27.452</td>\n      <td>218.300</td>\n      <td>1</td>\n    </tr>\n    <tr>\n      <th>1</th>\n      <td>2</td>\n      <td>18</td>\n      <td>2</td>\n      <td>2</td>\n      <td>3</td>\n      <td>5</td>\n      <td>2</td>\n      <td>2</td>\n      <td>2</td>\n      <td>8.0</td>\n      <td>58</td>\n      <td>+5.478</td>\n      <td>5696094</td>\n      <td>41</td>\n      <td>3</td>\n      <td>1:27.739</td>\n      <td>217.586</td>\n      <td>1</td>\n    </tr>\n    <tr>\n      <th>2</th>\n      <td>3</td>\n      <td>18</td>\n      <td>3</td>\n      <td>3</td>\n      <td>7</td>\n      <td>7</td>\n      <td>3</td>\n      <td>3</td>\n      <td>3</td>\n      <td>6.0</td>\n      <td>58</td>\n      <td>+8.163</td>\n      <td>5698779</td>\n      <td>41</td>\n      <td>5</td>\n      <td>1:28.090</td>\n      <td>216.719</td>\n      <td>1</td>\n    </tr>\n    <tr>\n      <th>3</th>\n      <td>4</td>\n      <td>18</td>\n      <td>4</td>\n      <td>4</td>\n      <td>5</td>\n      <td>11</td>\n      <td>4</td>\n      <td>4</td>\n      <td>4</td>\n      <td>5.0</td>\n      <td>58</td>\n      <td>+17.181</td>\n      <td>5707797</td>\n      <td>58</td>\n      <td>7</td>\n      <td>1:28.603</td>\n      <td>215.464</td>\n      <td>1</td>\n    </tr>\n    <tr>\n      <th>4</th>\n      <td>5</td>\n      <td>18</td>\n      <td>5</td>\n      <td>1</td>\n      <td>23</td>\n      <td>3</td>\n      <td>5</td>\n      <td>5</td>\n      <td>5</td>\n      <td>4.0</td>\n      <td>58</td>\n      <td>+18.014</td>\n      <td>5708630</td>\n      <td>43</td>\n      <td>1</td>\n      <td>1:27.418</td>\n      <td>218.385</td>\n      <td>1</td>\n    </tr>\n    <tr>\n      <th>...</th>\n      <td>...</td>\n      <td>...</td>\n      <td>...</td>\n      <td>...</td>\n      <td>...</td>\n      <td>...</td>\n      <td>...</td>\n      <td>...</td>\n      <td>...</td>\n      <td>...</td>\n      <td>...</td>\n      <td>...</td>\n      <td>...</td>\n      <td>...</td>\n      <td>...</td>\n      <td>...</td>\n      <td>...</td>\n      <td>...</td>\n    </tr>\n    <tr>\n      <th>25835</th>\n      <td>25841</td>\n      <td>1096</td>\n      <td>854</td>\n      <td>210</td>\n      <td>47</td>\n      <td>12</td>\n      <td>16</td>\n      <td>16</td>\n      <td>16</td>\n      <td>0.0</td>\n      <td>57</td>\n      <td>\\N</td>\n      <td>\\N</td>\n      <td>39</td>\n      <td>12</td>\n      <td>1:29.833</td>\n      <td>211.632</td>\n      <td>11</td>\n    </tr>\n    <tr>\n      <th>25836</th>\n      <td>25842</td>\n      <td>1096</td>\n      <td>825</td>\n      <td>210</td>\n      <td>20</td>\n      <td>16</td>\n      <td>17</td>\n      <td>17</td>\n      <td>17</td>\n      <td>0.0</td>\n      <td>57</td>\n      <td>\\N</td>\n      <td>\\N</td>\n      <td>40</td>\n      <td>20</td>\n      <td>1:31.158</td>\n      <td>208.556</td>\n      <td>11</td>\n    </tr>\n    <tr>\n      <th>25837</th>\n      <td>25843</td>\n      <td>1096</td>\n      <td>1</td>\n      <td>131</td>\n      <td>44</td>\n      <td>5</td>\n      <td>18</td>\n      <td>18</td>\n      <td>18</td>\n      <td>0.0</td>\n      <td>55</td>\n      <td>\\N</td>\n      <td>\\N</td>\n      <td>42</td>\n      <td>11</td>\n      <td>1:29.788</td>\n      <td>211.738</td>\n      <td>9</td>\n    </tr>\n    <tr>\n      <th>25838</th>\n      <td>25844</td>\n      <td>1096</td>\n      <td>849</td>\n      <td>3</td>\n      <td>6</td>\n      <td>20</td>\n      <td>19</td>\n      <td>19</td>\n      <td>19</td>\n      <td>0.0</td>\n      <td>55</td>\n      <td>\\N</td>\n      <td>\\N</td>\n      <td>45</td>\n      <td>14</td>\n      <td>1:30.309</td>\n      <td>210.517</td>\n      <td>130</td>\n    </tr>\n    <tr>\n      <th>25839</th>\n      <td>25845</td>\n      <td>1096</td>\n      <td>4</td>\n      <td>214</td>\n      <td>14</td>\n      <td>10</td>\n      <td>\\N</td>\n      <td>R</td>\n      <td>20</td>\n      <td>0.0</td>\n      <td>27</td>\n      <td>\\N</td>\n      <td>\\N</td>\n      <td>24</td>\n      <td>17</td>\n      <td>1:30.579</td>\n      <td>209.889</td>\n      <td>47</td>\n    </tr>\n  </tbody>\n</table>\n<p>25840 rows × 18 columns</p>\n</div>"
     },
     "metadata": {},
     "output_type": "display_data"
    },
    {
     "data": {
      "text/plain": "                 count          mean          std  min      25%      50%   \nresultId       25840.0  12921.334327  7460.682031  1.0  6460.75  12920.5  \\\nraceId         25840.0    531.425813   299.440908  1.0   293.00    514.0   \ndriverId       25840.0    261.732082   268.623016  1.0    56.00    163.0   \nconstructorId  25840.0     48.628328    59.732131  1.0     6.00     25.0   \ngrid           25840.0     11.179063     7.243725  0.0     5.00     11.0   \npositionOrder  25840.0     12.876006     7.712391  1.0     6.00     12.0   \npoints         25840.0      1.877053     4.169849  0.0     0.00      0.0   \nlaps           25840.0     45.977515    29.808951  0.0    22.00     52.0   \nstatusId       25840.0     17.568692    26.155476  1.0     1.00     11.0   \n\n                    75%      max  \nresultId       19380.25  25845.0  \nraceId           784.00   1096.0  \ndriverId         360.00    856.0  \nconstructorId     58.00    214.0  \ngrid              17.00     34.0  \npositionOrder     18.00     39.0  \npoints             2.00     50.0  \nlaps              66.00    200.0  \nstatusId          14.00    141.0  ",
      "text/html": "<div>\n<style scoped>\n    .dataframe tbody tr th:only-of-type {\n        vertical-align: middle;\n    }\n\n    .dataframe tbody tr th {\n        vertical-align: top;\n    }\n\n    .dataframe thead th {\n        text-align: right;\n    }\n</style>\n<table border=\"1\" class=\"dataframe\">\n  <thead>\n    <tr style=\"text-align: right;\">\n      <th></th>\n      <th>count</th>\n      <th>mean</th>\n      <th>std</th>\n      <th>min</th>\n      <th>25%</th>\n      <th>50%</th>\n      <th>75%</th>\n      <th>max</th>\n    </tr>\n  </thead>\n  <tbody>\n    <tr>\n      <th>resultId</th>\n      <td>25840.0</td>\n      <td>12921.334327</td>\n      <td>7460.682031</td>\n      <td>1.0</td>\n      <td>6460.75</td>\n      <td>12920.5</td>\n      <td>19380.25</td>\n      <td>25845.0</td>\n    </tr>\n    <tr>\n      <th>raceId</th>\n      <td>25840.0</td>\n      <td>531.425813</td>\n      <td>299.440908</td>\n      <td>1.0</td>\n      <td>293.00</td>\n      <td>514.0</td>\n      <td>784.00</td>\n      <td>1096.0</td>\n    </tr>\n    <tr>\n      <th>driverId</th>\n      <td>25840.0</td>\n      <td>261.732082</td>\n      <td>268.623016</td>\n      <td>1.0</td>\n      <td>56.00</td>\n      <td>163.0</td>\n      <td>360.00</td>\n      <td>856.0</td>\n    </tr>\n    <tr>\n      <th>constructorId</th>\n      <td>25840.0</td>\n      <td>48.628328</td>\n      <td>59.732131</td>\n      <td>1.0</td>\n      <td>6.00</td>\n      <td>25.0</td>\n      <td>58.00</td>\n      <td>214.0</td>\n    </tr>\n    <tr>\n      <th>grid</th>\n      <td>25840.0</td>\n      <td>11.179063</td>\n      <td>7.243725</td>\n      <td>0.0</td>\n      <td>5.00</td>\n      <td>11.0</td>\n      <td>17.00</td>\n      <td>34.0</td>\n    </tr>\n    <tr>\n      <th>positionOrder</th>\n      <td>25840.0</td>\n      <td>12.876006</td>\n      <td>7.712391</td>\n      <td>1.0</td>\n      <td>6.00</td>\n      <td>12.0</td>\n      <td>18.00</td>\n      <td>39.0</td>\n    </tr>\n    <tr>\n      <th>points</th>\n      <td>25840.0</td>\n      <td>1.877053</td>\n      <td>4.169849</td>\n      <td>0.0</td>\n      <td>0.00</td>\n      <td>0.0</td>\n      <td>2.00</td>\n      <td>50.0</td>\n    </tr>\n    <tr>\n      <th>laps</th>\n      <td>25840.0</td>\n      <td>45.977515</td>\n      <td>29.808951</td>\n      <td>0.0</td>\n      <td>22.00</td>\n      <td>52.0</td>\n      <td>66.00</td>\n      <td>200.0</td>\n    </tr>\n    <tr>\n      <th>statusId</th>\n      <td>25840.0</td>\n      <td>17.568692</td>\n      <td>26.155476</td>\n      <td>1.0</td>\n      <td>1.00</td>\n      <td>11.0</td>\n      <td>14.00</td>\n      <td>141.0</td>\n    </tr>\n  </tbody>\n</table>\n</div>"
     },
     "metadata": {},
     "output_type": "display_data"
    },
    {
     "name": "stdout",
     "output_type": "stream",
     "text": [
      "Driver Standings\n"
     ]
    },
    {
     "data": {
      "text/plain": "       driverStandingsId  raceId  driverId  points  position positionText   \n0                      1      18         1    10.0         1            1  \\\n1                      2      18         2     8.0         2            2   \n2                      3      18         3     6.0         3            3   \n3                      4      18         4     5.0         4            4   \n4                      5      18         5     4.0         5            5   \n...                  ...     ...       ...     ...       ...          ...   \n33897              71841    1098       840     0.0        16           16   \n33898              71842    1098       852     0.0        17           17   \n33899              71843    1098       830     0.0        18           18   \n33900              71844    1098       856     0.0        19           19   \n33901              71845    1098       855     0.0        20           20   \n\n       wins  \n0         1  \n1         0  \n2         0  \n3         0  \n4         0  \n...     ...  \n33897     0  \n33898     0  \n33899     0  \n33900     0  \n33901     0  \n\n[33902 rows x 7 columns]",
      "text/html": "<div>\n<style scoped>\n    .dataframe tbody tr th:only-of-type {\n        vertical-align: middle;\n    }\n\n    .dataframe tbody tr th {\n        vertical-align: top;\n    }\n\n    .dataframe thead th {\n        text-align: right;\n    }\n</style>\n<table border=\"1\" class=\"dataframe\">\n  <thead>\n    <tr style=\"text-align: right;\">\n      <th></th>\n      <th>driverStandingsId</th>\n      <th>raceId</th>\n      <th>driverId</th>\n      <th>points</th>\n      <th>position</th>\n      <th>positionText</th>\n      <th>wins</th>\n    </tr>\n  </thead>\n  <tbody>\n    <tr>\n      <th>0</th>\n      <td>1</td>\n      <td>18</td>\n      <td>1</td>\n      <td>10.0</td>\n      <td>1</td>\n      <td>1</td>\n      <td>1</td>\n    </tr>\n    <tr>\n      <th>1</th>\n      <td>2</td>\n      <td>18</td>\n      <td>2</td>\n      <td>8.0</td>\n      <td>2</td>\n      <td>2</td>\n      <td>0</td>\n    </tr>\n    <tr>\n      <th>2</th>\n      <td>3</td>\n      <td>18</td>\n      <td>3</td>\n      <td>6.0</td>\n      <td>3</td>\n      <td>3</td>\n      <td>0</td>\n    </tr>\n    <tr>\n      <th>3</th>\n      <td>4</td>\n      <td>18</td>\n      <td>4</td>\n      <td>5.0</td>\n      <td>4</td>\n      <td>4</td>\n      <td>0</td>\n    </tr>\n    <tr>\n      <th>4</th>\n      <td>5</td>\n      <td>18</td>\n      <td>5</td>\n      <td>4.0</td>\n      <td>5</td>\n      <td>5</td>\n      <td>0</td>\n    </tr>\n    <tr>\n      <th>...</th>\n      <td>...</td>\n      <td>...</td>\n      <td>...</td>\n      <td>...</td>\n      <td>...</td>\n      <td>...</td>\n      <td>...</td>\n    </tr>\n    <tr>\n      <th>33897</th>\n      <td>71841</td>\n      <td>1098</td>\n      <td>840</td>\n      <td>0.0</td>\n      <td>16</td>\n      <td>16</td>\n      <td>0</td>\n    </tr>\n    <tr>\n      <th>33898</th>\n      <td>71842</td>\n      <td>1098</td>\n      <td>852</td>\n      <td>0.0</td>\n      <td>17</td>\n      <td>17</td>\n      <td>0</td>\n    </tr>\n    <tr>\n      <th>33899</th>\n      <td>71843</td>\n      <td>1098</td>\n      <td>830</td>\n      <td>0.0</td>\n      <td>18</td>\n      <td>18</td>\n      <td>0</td>\n    </tr>\n    <tr>\n      <th>33900</th>\n      <td>71844</td>\n      <td>1098</td>\n      <td>856</td>\n      <td>0.0</td>\n      <td>19</td>\n      <td>19</td>\n      <td>0</td>\n    </tr>\n    <tr>\n      <th>33901</th>\n      <td>71845</td>\n      <td>1098</td>\n      <td>855</td>\n      <td>0.0</td>\n      <td>20</td>\n      <td>20</td>\n      <td>0</td>\n    </tr>\n  </tbody>\n</table>\n<p>33902 rows × 7 columns</p>\n</div>"
     },
     "metadata": {},
     "output_type": "display_data"
    },
    {
     "data": {
      "text/plain": "                     count          mean           std  min       25%   \ndriverStandingsId  33902.0  42342.373901  21668.533758  1.0  19594.25  \\\nraceId             33902.0    569.165506    281.792241  1.0    345.00   \ndriverId           33902.0    304.342782    264.834962  1.0     85.00   \npoints             33902.0     13.329134     35.392937  0.0      0.00   \nposition           33902.0     19.958085     16.425503  1.0      8.00   \nwins               33902.0      0.268893      0.992981  0.0      0.00   \n\n                       50%       75%      max  \ndriverStandingsId  49563.5  58779.75  71845.0  \nraceId               593.0    795.00   1098.0  \ndriverId             219.0    501.00    858.0  \npoints                 1.0     10.00    454.0  \nposition              16.0     26.00    108.0  \nwins                   0.0      0.00     15.0  ",
      "text/html": "<div>\n<style scoped>\n    .dataframe tbody tr th:only-of-type {\n        vertical-align: middle;\n    }\n\n    .dataframe tbody tr th {\n        vertical-align: top;\n    }\n\n    .dataframe thead th {\n        text-align: right;\n    }\n</style>\n<table border=\"1\" class=\"dataframe\">\n  <thead>\n    <tr style=\"text-align: right;\">\n      <th></th>\n      <th>count</th>\n      <th>mean</th>\n      <th>std</th>\n      <th>min</th>\n      <th>25%</th>\n      <th>50%</th>\n      <th>75%</th>\n      <th>max</th>\n    </tr>\n  </thead>\n  <tbody>\n    <tr>\n      <th>driverStandingsId</th>\n      <td>33902.0</td>\n      <td>42342.373901</td>\n      <td>21668.533758</td>\n      <td>1.0</td>\n      <td>19594.25</td>\n      <td>49563.5</td>\n      <td>58779.75</td>\n      <td>71845.0</td>\n    </tr>\n    <tr>\n      <th>raceId</th>\n      <td>33902.0</td>\n      <td>569.165506</td>\n      <td>281.792241</td>\n      <td>1.0</td>\n      <td>345.00</td>\n      <td>593.0</td>\n      <td>795.00</td>\n      <td>1098.0</td>\n    </tr>\n    <tr>\n      <th>driverId</th>\n      <td>33902.0</td>\n      <td>304.342782</td>\n      <td>264.834962</td>\n      <td>1.0</td>\n      <td>85.00</td>\n      <td>219.0</td>\n      <td>501.00</td>\n      <td>858.0</td>\n    </tr>\n    <tr>\n      <th>points</th>\n      <td>33902.0</td>\n      <td>13.329134</td>\n      <td>35.392937</td>\n      <td>0.0</td>\n      <td>0.00</td>\n      <td>1.0</td>\n      <td>10.00</td>\n      <td>454.0</td>\n    </tr>\n    <tr>\n      <th>position</th>\n      <td>33902.0</td>\n      <td>19.958085</td>\n      <td>16.425503</td>\n      <td>1.0</td>\n      <td>8.00</td>\n      <td>16.0</td>\n      <td>26.00</td>\n      <td>108.0</td>\n    </tr>\n    <tr>\n      <th>wins</th>\n      <td>33902.0</td>\n      <td>0.268893</td>\n      <td>0.992981</td>\n      <td>0.0</td>\n      <td>0.00</td>\n      <td>0.0</td>\n      <td>0.00</td>\n      <td>15.0</td>\n    </tr>\n  </tbody>\n</table>\n</div>"
     },
     "metadata": {},
     "output_type": "display_data"
    }
   ],
   "source": [
    "# Load and review Driver information\n",
    "drivers_df = pd.read_csv('data/drivers.csv')\n",
    "results_df = pd.read_csv(\"data/results.csv\")\n",
    "driver_standings_df = pd.read_csv(\"data/driver_standings.csv\")\n",
    "print(\"Drivers\")\n",
    "display(drivers_df)\n",
    "display(drivers_df.describe().T)\n",
    "print(\"Driver Results\")\n",
    "display(results_df)\n",
    "display(results_df.describe().T)\n",
    "print(\"Driver Standings\")\n",
    "display(driver_standings_df)\n",
    "display(driver_standings_df.describe().T)"
   ],
   "metadata": {
    "collapsed": false,
    "ExecuteTime": {
     "end_time": "2023-08-07T04:39:36.502347400Z",
     "start_time": "2023-08-07T04:39:35.982038400Z"
    }
   }
  },
  {
   "cell_type": "markdown",
   "source": [
    "### Race & Status Details\n"
   ],
   "metadata": {
    "collapsed": false
   }
  },
  {
   "cell_type": "code",
   "execution_count": 17,
   "outputs": [
    {
     "name": "stdout",
     "output_type": "stream",
     "text": [
      "Qualifying\n"
     ]
    },
    {
     "data": {
      "text/plain": "      qualifyId  raceId  driverId  constructorId  number  position        q1   \n0             1      18         1              1      22         1  1:26.572  \\\n1             2      18         9              2       4         2  1:26.103   \n2             3      18         5              1      23         3  1:25.664   \n3             4      18        13              6       2         4  1:25.994   \n4             5      18         2              2       3         5  1:25.960   \n...         ...     ...       ...            ...     ...       ...       ...   \n9570       9628    1096       825            210      20        16  1:25.834   \n9571       9629    1096       842            213      10        17  1:25.859   \n9572       9630    1096       822             51      77        18  1:25.892   \n9573       9631    1096       848              3      23        19  1:26.028   \n9574       9632    1096       849              3       6        20  1:26.054   \n\n            q2        q3  \n0     1:25.187  1:26.714  \n1     1:25.315  1:26.869  \n2     1:25.452  1:27.079  \n3     1:25.691  1:27.178  \n4     1:25.518  1:27.236  \n...        ...       ...  \n9570        \\N        \\N  \n9571        \\N        \\N  \n9572        \\N        \\N  \n9573        \\N        \\N  \n9574        \\N        \\N  \n\n[9575 rows x 9 columns]",
      "text/html": "<div>\n<style scoped>\n    .dataframe tbody tr th:only-of-type {\n        vertical-align: middle;\n    }\n\n    .dataframe tbody tr th {\n        vertical-align: top;\n    }\n\n    .dataframe thead th {\n        text-align: right;\n    }\n</style>\n<table border=\"1\" class=\"dataframe\">\n  <thead>\n    <tr style=\"text-align: right;\">\n      <th></th>\n      <th>qualifyId</th>\n      <th>raceId</th>\n      <th>driverId</th>\n      <th>constructorId</th>\n      <th>number</th>\n      <th>position</th>\n      <th>q1</th>\n      <th>q2</th>\n      <th>q3</th>\n    </tr>\n  </thead>\n  <tbody>\n    <tr>\n      <th>0</th>\n      <td>1</td>\n      <td>18</td>\n      <td>1</td>\n      <td>1</td>\n      <td>22</td>\n      <td>1</td>\n      <td>1:26.572</td>\n      <td>1:25.187</td>\n      <td>1:26.714</td>\n    </tr>\n    <tr>\n      <th>1</th>\n      <td>2</td>\n      <td>18</td>\n      <td>9</td>\n      <td>2</td>\n      <td>4</td>\n      <td>2</td>\n      <td>1:26.103</td>\n      <td>1:25.315</td>\n      <td>1:26.869</td>\n    </tr>\n    <tr>\n      <th>2</th>\n      <td>3</td>\n      <td>18</td>\n      <td>5</td>\n      <td>1</td>\n      <td>23</td>\n      <td>3</td>\n      <td>1:25.664</td>\n      <td>1:25.452</td>\n      <td>1:27.079</td>\n    </tr>\n    <tr>\n      <th>3</th>\n      <td>4</td>\n      <td>18</td>\n      <td>13</td>\n      <td>6</td>\n      <td>2</td>\n      <td>4</td>\n      <td>1:25.994</td>\n      <td>1:25.691</td>\n      <td>1:27.178</td>\n    </tr>\n    <tr>\n      <th>4</th>\n      <td>5</td>\n      <td>18</td>\n      <td>2</td>\n      <td>2</td>\n      <td>3</td>\n      <td>5</td>\n      <td>1:25.960</td>\n      <td>1:25.518</td>\n      <td>1:27.236</td>\n    </tr>\n    <tr>\n      <th>...</th>\n      <td>...</td>\n      <td>...</td>\n      <td>...</td>\n      <td>...</td>\n      <td>...</td>\n      <td>...</td>\n      <td>...</td>\n      <td>...</td>\n      <td>...</td>\n    </tr>\n    <tr>\n      <th>9570</th>\n      <td>9628</td>\n      <td>1096</td>\n      <td>825</td>\n      <td>210</td>\n      <td>20</td>\n      <td>16</td>\n      <td>1:25.834</td>\n      <td>\\N</td>\n      <td>\\N</td>\n    </tr>\n    <tr>\n      <th>9571</th>\n      <td>9629</td>\n      <td>1096</td>\n      <td>842</td>\n      <td>213</td>\n      <td>10</td>\n      <td>17</td>\n      <td>1:25.859</td>\n      <td>\\N</td>\n      <td>\\N</td>\n    </tr>\n    <tr>\n      <th>9572</th>\n      <td>9630</td>\n      <td>1096</td>\n      <td>822</td>\n      <td>51</td>\n      <td>77</td>\n      <td>18</td>\n      <td>1:25.892</td>\n      <td>\\N</td>\n      <td>\\N</td>\n    </tr>\n    <tr>\n      <th>9573</th>\n      <td>9631</td>\n      <td>1096</td>\n      <td>848</td>\n      <td>3</td>\n      <td>23</td>\n      <td>19</td>\n      <td>1:26.028</td>\n      <td>\\N</td>\n      <td>\\N</td>\n    </tr>\n    <tr>\n      <th>9574</th>\n      <td>9632</td>\n      <td>1096</td>\n      <td>849</td>\n      <td>3</td>\n      <td>6</td>\n      <td>20</td>\n      <td>1:26.054</td>\n      <td>\\N</td>\n      <td>\\N</td>\n    </tr>\n  </tbody>\n</table>\n<p>9575 rows × 9 columns</p>\n</div>"
     },
     "metadata": {},
     "output_type": "display_data"
    },
    {
     "data": {
      "text/plain": "                count         mean          std  min     25%     50%     75%   \nqualifyId      9575.0  4798.950078  2777.072171  1.0  2395.5  4790.0  7203.5  \\\nraceId         9575.0   576.919582   418.409302  1.0   116.5   851.0   972.0   \ndriverId       9575.0   303.456710   377.386772  1.0    15.0    49.0   817.0   \nconstructorId  9575.0    43.512376    69.884962  1.0     4.0     9.0    25.0   \nnumber         9575.0    17.865483    17.633755  0.0     7.0    14.0    22.0   \nposition       9575.0    11.263603     6.302077  1.0     6.0    11.0    17.0   \n\n                  max  \nqualifyId      9632.0  \nraceId         1096.0  \ndriverId        856.0  \nconstructorId   214.0  \nnumber           99.0  \nposition         28.0  ",
      "text/html": "<div>\n<style scoped>\n    .dataframe tbody tr th:only-of-type {\n        vertical-align: middle;\n    }\n\n    .dataframe tbody tr th {\n        vertical-align: top;\n    }\n\n    .dataframe thead th {\n        text-align: right;\n    }\n</style>\n<table border=\"1\" class=\"dataframe\">\n  <thead>\n    <tr style=\"text-align: right;\">\n      <th></th>\n      <th>count</th>\n      <th>mean</th>\n      <th>std</th>\n      <th>min</th>\n      <th>25%</th>\n      <th>50%</th>\n      <th>75%</th>\n      <th>max</th>\n    </tr>\n  </thead>\n  <tbody>\n    <tr>\n      <th>qualifyId</th>\n      <td>9575.0</td>\n      <td>4798.950078</td>\n      <td>2777.072171</td>\n      <td>1.0</td>\n      <td>2395.5</td>\n      <td>4790.0</td>\n      <td>7203.5</td>\n      <td>9632.0</td>\n    </tr>\n    <tr>\n      <th>raceId</th>\n      <td>9575.0</td>\n      <td>576.919582</td>\n      <td>418.409302</td>\n      <td>1.0</td>\n      <td>116.5</td>\n      <td>851.0</td>\n      <td>972.0</td>\n      <td>1096.0</td>\n    </tr>\n    <tr>\n      <th>driverId</th>\n      <td>9575.0</td>\n      <td>303.456710</td>\n      <td>377.386772</td>\n      <td>1.0</td>\n      <td>15.0</td>\n      <td>49.0</td>\n      <td>817.0</td>\n      <td>856.0</td>\n    </tr>\n    <tr>\n      <th>constructorId</th>\n      <td>9575.0</td>\n      <td>43.512376</td>\n      <td>69.884962</td>\n      <td>1.0</td>\n      <td>4.0</td>\n      <td>9.0</td>\n      <td>25.0</td>\n      <td>214.0</td>\n    </tr>\n    <tr>\n      <th>number</th>\n      <td>9575.0</td>\n      <td>17.865483</td>\n      <td>17.633755</td>\n      <td>0.0</td>\n      <td>7.0</td>\n      <td>14.0</td>\n      <td>22.0</td>\n      <td>99.0</td>\n    </tr>\n    <tr>\n      <th>position</th>\n      <td>9575.0</td>\n      <td>11.263603</td>\n      <td>6.302077</td>\n      <td>1.0</td>\n      <td>6.0</td>\n      <td>11.0</td>\n      <td>17.0</td>\n      <td>28.0</td>\n    </tr>\n  </tbody>\n</table>\n</div>"
     },
     "metadata": {},
     "output_type": "display_data"
    },
    {
     "name": "stdout",
     "output_type": "stream",
     "text": [
      "Lap Times\n"
     ]
    },
    {
     "data": {
      "text/plain": "        raceId  driverId  lap  position      time  milliseconds\n0          841        20    1         1  1:38.109         98109\n1          841        20    2         1  1:33.006         93006\n2          841        20    3         1  1:32.713         92713\n3          841        20    4         1  1:32.803         92803\n4          841        20    5         1  1:32.342         92342\n...        ...       ...  ...       ...       ...           ...\n538116    1096       822   53        16  1:32.998         92998\n538117    1096       822   54        16  1:32.995         92995\n538118    1096       822   55        16  1:31.236         91236\n538119    1096       822   56        15  1:30.566         90566\n538120    1096       822   57        15  1:30.743         90743\n\n[538121 rows x 6 columns]",
      "text/html": "<div>\n<style scoped>\n    .dataframe tbody tr th:only-of-type {\n        vertical-align: middle;\n    }\n\n    .dataframe tbody tr th {\n        vertical-align: top;\n    }\n\n    .dataframe thead th {\n        text-align: right;\n    }\n</style>\n<table border=\"1\" class=\"dataframe\">\n  <thead>\n    <tr style=\"text-align: right;\">\n      <th></th>\n      <th>raceId</th>\n      <th>driverId</th>\n      <th>lap</th>\n      <th>position</th>\n      <th>time</th>\n      <th>milliseconds</th>\n    </tr>\n  </thead>\n  <tbody>\n    <tr>\n      <th>0</th>\n      <td>841</td>\n      <td>20</td>\n      <td>1</td>\n      <td>1</td>\n      <td>1:38.109</td>\n      <td>98109</td>\n    </tr>\n    <tr>\n      <th>1</th>\n      <td>841</td>\n      <td>20</td>\n      <td>2</td>\n      <td>1</td>\n      <td>1:33.006</td>\n      <td>93006</td>\n    </tr>\n    <tr>\n      <th>2</th>\n      <td>841</td>\n      <td>20</td>\n      <td>3</td>\n      <td>1</td>\n      <td>1:32.713</td>\n      <td>92713</td>\n    </tr>\n    <tr>\n      <th>3</th>\n      <td>841</td>\n      <td>20</td>\n      <td>4</td>\n      <td>1</td>\n      <td>1:32.803</td>\n      <td>92803</td>\n    </tr>\n    <tr>\n      <th>4</th>\n      <td>841</td>\n      <td>20</td>\n      <td>5</td>\n      <td>1</td>\n      <td>1:32.342</td>\n      <td>92342</td>\n    </tr>\n    <tr>\n      <th>...</th>\n      <td>...</td>\n      <td>...</td>\n      <td>...</td>\n      <td>...</td>\n      <td>...</td>\n      <td>...</td>\n    </tr>\n    <tr>\n      <th>538116</th>\n      <td>1096</td>\n      <td>822</td>\n      <td>53</td>\n      <td>16</td>\n      <td>1:32.998</td>\n      <td>92998</td>\n    </tr>\n    <tr>\n      <th>538117</th>\n      <td>1096</td>\n      <td>822</td>\n      <td>54</td>\n      <td>16</td>\n      <td>1:32.995</td>\n      <td>92995</td>\n    </tr>\n    <tr>\n      <th>538118</th>\n      <td>1096</td>\n      <td>822</td>\n      <td>55</td>\n      <td>16</td>\n      <td>1:31.236</td>\n      <td>91236</td>\n    </tr>\n    <tr>\n      <th>538119</th>\n      <td>1096</td>\n      <td>822</td>\n      <td>56</td>\n      <td>15</td>\n      <td>1:30.566</td>\n      <td>90566</td>\n    </tr>\n    <tr>\n      <th>538120</th>\n      <td>1096</td>\n      <td>822</td>\n      <td>57</td>\n      <td>15</td>\n      <td>1:30.743</td>\n      <td>90743</td>\n    </tr>\n  </tbody>\n</table>\n<p>538121 rows × 6 columns</p>\n</div>"
     },
     "metadata": {},
     "output_type": "display_data"
    },
    {
     "data": {
      "text/plain": "                 count          mean           std      min      25%      50%   \nraceId        538121.0    551.226841    422.395496      1.0    129.0    841.0  \\\ndriverId      538121.0    285.445078    373.403612      1.0     15.0     37.0   \nlap           538121.0     29.965461     18.412489      1.0     14.0     29.0   \nposition      538121.0      9.651287      5.539014      1.0      5.0      9.0   \nmilliseconds  538121.0  95720.792638  74774.356932  55404.0  82071.0  90673.0   \n\n                   75%        max  \nraceId           966.0     1096.0  \ndriverId         817.0      856.0  \nlap               44.0       87.0  \nposition          14.0       24.0  \nmilliseconds  102319.0  7507547.0  ",
      "text/html": "<div>\n<style scoped>\n    .dataframe tbody tr th:only-of-type {\n        vertical-align: middle;\n    }\n\n    .dataframe tbody tr th {\n        vertical-align: top;\n    }\n\n    .dataframe thead th {\n        text-align: right;\n    }\n</style>\n<table border=\"1\" class=\"dataframe\">\n  <thead>\n    <tr style=\"text-align: right;\">\n      <th></th>\n      <th>count</th>\n      <th>mean</th>\n      <th>std</th>\n      <th>min</th>\n      <th>25%</th>\n      <th>50%</th>\n      <th>75%</th>\n      <th>max</th>\n    </tr>\n  </thead>\n  <tbody>\n    <tr>\n      <th>raceId</th>\n      <td>538121.0</td>\n      <td>551.226841</td>\n      <td>422.395496</td>\n      <td>1.0</td>\n      <td>129.0</td>\n      <td>841.0</td>\n      <td>966.0</td>\n      <td>1096.0</td>\n    </tr>\n    <tr>\n      <th>driverId</th>\n      <td>538121.0</td>\n      <td>285.445078</td>\n      <td>373.403612</td>\n      <td>1.0</td>\n      <td>15.0</td>\n      <td>37.0</td>\n      <td>817.0</td>\n      <td>856.0</td>\n    </tr>\n    <tr>\n      <th>lap</th>\n      <td>538121.0</td>\n      <td>29.965461</td>\n      <td>18.412489</td>\n      <td>1.0</td>\n      <td>14.0</td>\n      <td>29.0</td>\n      <td>44.0</td>\n      <td>87.0</td>\n    </tr>\n    <tr>\n      <th>position</th>\n      <td>538121.0</td>\n      <td>9.651287</td>\n      <td>5.539014</td>\n      <td>1.0</td>\n      <td>5.0</td>\n      <td>9.0</td>\n      <td>14.0</td>\n      <td>24.0</td>\n    </tr>\n    <tr>\n      <th>milliseconds</th>\n      <td>538121.0</td>\n      <td>95720.792638</td>\n      <td>74774.356932</td>\n      <td>55404.0</td>\n      <td>82071.0</td>\n      <td>90673.0</td>\n      <td>102319.0</td>\n      <td>7507547.0</td>\n    </tr>\n  </tbody>\n</table>\n</div>"
     },
     "metadata": {},
     "output_type": "display_data"
    },
    {
     "name": "stdout",
     "output_type": "stream",
     "text": [
      "Pit Stops\n"
     ]
    },
    {
     "data": {
      "text/plain": "      raceId  driverId  stop  lap      time duration  milliseconds\n0        841       153     1    1  17:05:23   26.898         26898\n1        841        30     1    1  17:05:52   25.021         25021\n2        841        17     1   11  17:20:48   23.426         23426\n3        841         4     1   12  17:22:34   23.251         23251\n4        841        13     1   13  17:24:10   23.842         23842\n...      ...       ...   ...  ...       ...      ...           ...\n9629    1096       849     2   38  18:02:50   25.174         25174\n9630    1096       840     2   40  18:04:44   21.802         21802\n9631    1096       839     2   41  18:06:09   21.734         21734\n9632    1096       846     2   42  18:07:36   21.559         21559\n9633    1096       855     2   44  18:11:10   23.159         23159\n\n[9634 rows x 7 columns]",
      "text/html": "<div>\n<style scoped>\n    .dataframe tbody tr th:only-of-type {\n        vertical-align: middle;\n    }\n\n    .dataframe tbody tr th {\n        vertical-align: top;\n    }\n\n    .dataframe thead th {\n        text-align: right;\n    }\n</style>\n<table border=\"1\" class=\"dataframe\">\n  <thead>\n    <tr style=\"text-align: right;\">\n      <th></th>\n      <th>raceId</th>\n      <th>driverId</th>\n      <th>stop</th>\n      <th>lap</th>\n      <th>time</th>\n      <th>duration</th>\n      <th>milliseconds</th>\n    </tr>\n  </thead>\n  <tbody>\n    <tr>\n      <th>0</th>\n      <td>841</td>\n      <td>153</td>\n      <td>1</td>\n      <td>1</td>\n      <td>17:05:23</td>\n      <td>26.898</td>\n      <td>26898</td>\n    </tr>\n    <tr>\n      <th>1</th>\n      <td>841</td>\n      <td>30</td>\n      <td>1</td>\n      <td>1</td>\n      <td>17:05:52</td>\n      <td>25.021</td>\n      <td>25021</td>\n    </tr>\n    <tr>\n      <th>2</th>\n      <td>841</td>\n      <td>17</td>\n      <td>1</td>\n      <td>11</td>\n      <td>17:20:48</td>\n      <td>23.426</td>\n      <td>23426</td>\n    </tr>\n    <tr>\n      <th>3</th>\n      <td>841</td>\n      <td>4</td>\n      <td>1</td>\n      <td>12</td>\n      <td>17:22:34</td>\n      <td>23.251</td>\n      <td>23251</td>\n    </tr>\n    <tr>\n      <th>4</th>\n      <td>841</td>\n      <td>13</td>\n      <td>1</td>\n      <td>13</td>\n      <td>17:24:10</td>\n      <td>23.842</td>\n      <td>23842</td>\n    </tr>\n    <tr>\n      <th>...</th>\n      <td>...</td>\n      <td>...</td>\n      <td>...</td>\n      <td>...</td>\n      <td>...</td>\n      <td>...</td>\n      <td>...</td>\n    </tr>\n    <tr>\n      <th>9629</th>\n      <td>1096</td>\n      <td>849</td>\n      <td>2</td>\n      <td>38</td>\n      <td>18:02:50</td>\n      <td>25.174</td>\n      <td>25174</td>\n    </tr>\n    <tr>\n      <th>9630</th>\n      <td>1096</td>\n      <td>840</td>\n      <td>2</td>\n      <td>40</td>\n      <td>18:04:44</td>\n      <td>21.802</td>\n      <td>21802</td>\n    </tr>\n    <tr>\n      <th>9631</th>\n      <td>1096</td>\n      <td>839</td>\n      <td>2</td>\n      <td>41</td>\n      <td>18:06:09</td>\n      <td>21.734</td>\n      <td>21734</td>\n    </tr>\n    <tr>\n      <th>9632</th>\n      <td>1096</td>\n      <td>846</td>\n      <td>2</td>\n      <td>42</td>\n      <td>18:07:36</td>\n      <td>21.559</td>\n      <td>21559</td>\n    </tr>\n    <tr>\n      <th>9633</th>\n      <td>1096</td>\n      <td>855</td>\n      <td>2</td>\n      <td>44</td>\n      <td>18:11:10</td>\n      <td>23.159</td>\n      <td>23159</td>\n    </tr>\n  </tbody>\n</table>\n<p>9634 rows × 7 columns</p>\n</div>"
     },
     "metadata": {},
     "output_type": "display_data"
    },
    {
     "data": {
      "text/plain": "               count          mean            std      min       25%      50%   \nraceId        9634.0    956.103384      76.862933    841.0    885.00    953.0  \\\ndriverId      9634.0    513.030828     391.682304      1.0     18.00    815.0   \nstop          9634.0      1.760536       0.914522      1.0      1.00      2.0   \nlap           9634.0     25.255553      14.579838      1.0     13.00     25.0   \nmilliseconds  9634.0  72401.730641  273833.956873  12897.0  21908.25  23557.0   \n\n                   75%        max  \nraceId         1024.00     1096.0  \ndriverId        830.00      856.0  \nstop              2.00        6.0  \nlap              36.00       78.0  \nmilliseconds  26186.75  3069017.0  ",
      "text/html": "<div>\n<style scoped>\n    .dataframe tbody tr th:only-of-type {\n        vertical-align: middle;\n    }\n\n    .dataframe tbody tr th {\n        vertical-align: top;\n    }\n\n    .dataframe thead th {\n        text-align: right;\n    }\n</style>\n<table border=\"1\" class=\"dataframe\">\n  <thead>\n    <tr style=\"text-align: right;\">\n      <th></th>\n      <th>count</th>\n      <th>mean</th>\n      <th>std</th>\n      <th>min</th>\n      <th>25%</th>\n      <th>50%</th>\n      <th>75%</th>\n      <th>max</th>\n    </tr>\n  </thead>\n  <tbody>\n    <tr>\n      <th>raceId</th>\n      <td>9634.0</td>\n      <td>956.103384</td>\n      <td>76.862933</td>\n      <td>841.0</td>\n      <td>885.00</td>\n      <td>953.0</td>\n      <td>1024.00</td>\n      <td>1096.0</td>\n    </tr>\n    <tr>\n      <th>driverId</th>\n      <td>9634.0</td>\n      <td>513.030828</td>\n      <td>391.682304</td>\n      <td>1.0</td>\n      <td>18.00</td>\n      <td>815.0</td>\n      <td>830.00</td>\n      <td>856.0</td>\n    </tr>\n    <tr>\n      <th>stop</th>\n      <td>9634.0</td>\n      <td>1.760536</td>\n      <td>0.914522</td>\n      <td>1.0</td>\n      <td>1.00</td>\n      <td>2.0</td>\n      <td>2.00</td>\n      <td>6.0</td>\n    </tr>\n    <tr>\n      <th>lap</th>\n      <td>9634.0</td>\n      <td>25.255553</td>\n      <td>14.579838</td>\n      <td>1.0</td>\n      <td>13.00</td>\n      <td>25.0</td>\n      <td>36.00</td>\n      <td>78.0</td>\n    </tr>\n    <tr>\n      <th>milliseconds</th>\n      <td>9634.0</td>\n      <td>72401.730641</td>\n      <td>273833.956873</td>\n      <td>12897.0</td>\n      <td>21908.25</td>\n      <td>23557.0</td>\n      <td>26186.75</td>\n      <td>3069017.0</td>\n    </tr>\n  </tbody>\n</table>\n</div>"
     },
     "metadata": {},
     "output_type": "display_data"
    },
    {
     "name": "stdout",
     "output_type": "stream",
     "text": [
      "Status\n"
     ]
    },
    {
     "data": {
      "text/plain": "     statusId          status\n0           1        Finished\n1           2    Disqualified\n2           3        Accident\n3           4       Collision\n4           5          Engine\n..        ...             ...\n134       137          Damage\n135       138          Debris\n136       139         Illness\n137       140       Undertray\n138       141  Cooling system\n\n[139 rows x 2 columns]",
      "text/html": "<div>\n<style scoped>\n    .dataframe tbody tr th:only-of-type {\n        vertical-align: middle;\n    }\n\n    .dataframe tbody tr th {\n        vertical-align: top;\n    }\n\n    .dataframe thead th {\n        text-align: right;\n    }\n</style>\n<table border=\"1\" class=\"dataframe\">\n  <thead>\n    <tr style=\"text-align: right;\">\n      <th></th>\n      <th>statusId</th>\n      <th>status</th>\n    </tr>\n  </thead>\n  <tbody>\n    <tr>\n      <th>0</th>\n      <td>1</td>\n      <td>Finished</td>\n    </tr>\n    <tr>\n      <th>1</th>\n      <td>2</td>\n      <td>Disqualified</td>\n    </tr>\n    <tr>\n      <th>2</th>\n      <td>3</td>\n      <td>Accident</td>\n    </tr>\n    <tr>\n      <th>3</th>\n      <td>4</td>\n      <td>Collision</td>\n    </tr>\n    <tr>\n      <th>4</th>\n      <td>5</td>\n      <td>Engine</td>\n    </tr>\n    <tr>\n      <th>...</th>\n      <td>...</td>\n      <td>...</td>\n    </tr>\n    <tr>\n      <th>134</th>\n      <td>137</td>\n      <td>Damage</td>\n    </tr>\n    <tr>\n      <th>135</th>\n      <td>138</td>\n      <td>Debris</td>\n    </tr>\n    <tr>\n      <th>136</th>\n      <td>139</td>\n      <td>Illness</td>\n    </tr>\n    <tr>\n      <th>137</th>\n      <td>140</td>\n      <td>Undertray</td>\n    </tr>\n    <tr>\n      <th>138</th>\n      <td>141</td>\n      <td>Cooling system</td>\n    </tr>\n  </tbody>\n</table>\n<p>139 rows × 2 columns</p>\n</div>"
     },
     "metadata": {},
     "output_type": "display_data"
    },
    {
     "data": {
      "text/plain": "          count      mean        std  min   25%   50%    75%    max\nstatusId  139.0  71.23741  41.092434  1.0  35.5  72.0  106.5  141.0",
      "text/html": "<div>\n<style scoped>\n    .dataframe tbody tr th:only-of-type {\n        vertical-align: middle;\n    }\n\n    .dataframe tbody tr th {\n        vertical-align: top;\n    }\n\n    .dataframe thead th {\n        text-align: right;\n    }\n</style>\n<table border=\"1\" class=\"dataframe\">\n  <thead>\n    <tr style=\"text-align: right;\">\n      <th></th>\n      <th>count</th>\n      <th>mean</th>\n      <th>std</th>\n      <th>min</th>\n      <th>25%</th>\n      <th>50%</th>\n      <th>75%</th>\n      <th>max</th>\n    </tr>\n  </thead>\n  <tbody>\n    <tr>\n      <th>statusId</th>\n      <td>139.0</td>\n      <td>71.23741</td>\n      <td>41.092434</td>\n      <td>1.0</td>\n      <td>35.5</td>\n      <td>72.0</td>\n      <td>106.5</td>\n      <td>141.0</td>\n    </tr>\n  </tbody>\n</table>\n</div>"
     },
     "metadata": {},
     "output_type": "display_data"
    }
   ],
   "source": [
    "# Load and review Race detail information\n",
    "qualifying_df = pd.read_csv('data/qualifying.csv')\n",
    "lap_times_df = pd.read_csv(\"data/lap_times.csv\")\n",
    "pit_stops_df = pd.read_csv(\"data/pit_stops.csv\")\n",
    "status_df = pd.read_csv(\"data/status.csv\")\n",
    "print(\"Qualifying\")\n",
    "display(qualifying_df)\n",
    "display(qualifying_df.describe().T)\n",
    "print(\"Lap Times\")\n",
    "display(lap_times_df)\n",
    "display(lap_times_df.describe().T)\n",
    "print(\"Pit Stops\")\n",
    "display(pit_stops_df)\n",
    "display(pit_stops_df.describe().T)\n",
    "print(\"Status\")\n",
    "display(status_df)\n",
    "display(status_df.describe().T)"
   ],
   "metadata": {
    "collapsed": false,
    "ExecuteTime": {
     "end_time": "2023-08-07T05:02:36.425864600Z",
     "start_time": "2023-08-07T05:02:35.461738100Z"
    }
   }
  },
  {
   "cell_type": "code",
   "execution_count": null,
   "outputs": [],
   "source": [],
   "metadata": {
    "collapsed": false
   }
  },
  {
   "cell_type": "markdown",
   "source": [
    "## Circuit Segmentation\n",
    "\n",
    "For this first exercise. We will try to segment our circuits into *street circuits* and *track circuits* using various segmentation algorithms.\n",
    "\n",
    "First we have to prepare the dataset.  We need to combine the our new data source with the main dataset.\n"
   ],
   "metadata": {
    "collapsed": false
   }
  }
 ],
 "metadata": {
  "kernelspec": {
   "display_name": "Python 3",
   "language": "python",
   "name": "python3"
  },
  "language_info": {
   "codemirror_mode": {
    "name": "ipython",
    "version": 2
   },
   "file_extension": ".py",
   "mimetype": "text/x-python",
   "name": "python",
   "nbconvert_exporter": "python",
   "pygments_lexer": "ipython2",
   "version": "2.7.6"
  }
 },
 "nbformat": 4,
 "nbformat_minor": 0
}
