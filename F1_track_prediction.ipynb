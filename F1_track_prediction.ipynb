{
 "cells": [
  {
   "cell_type": "markdown",
   "source": [
    "# Formula 1 Analysis\n",
    "\n",
    "In this notebook, we will try various analyses with F1 Data from Kaggle - [Formula 1 World Championship 1950 - 2023 Dataset](https://www.kaggle.com/datasets/rohanrao/formula-1-world-championship-1950-2020)\n",
    "\n"
   ],
   "metadata": {
    "collapsed": false
   }
  },
  {
   "cell_type": "code",
   "execution_count": 1,
   "outputs": [],
   "source": [
    "import warnings\n",
    "\n",
    "# Import required libraries\n",
    "\n",
    "import pandas as pd\n",
    "import seaborn as sns\n",
    "import matplotlib.pyplot as plt\n",
    "import numpy as np\n",
    "from sklearn.model_selection import train_test_split\n",
    "\n",
    "# ignore random API warnings\n",
    "warnings.simplefilter(\"ignore\")"
   ],
   "metadata": {
    "collapsed": false,
    "ExecuteTime": {
     "end_time": "2023-08-08T03:49:08.621913200Z",
     "start_time": "2023-08-08T03:49:08.009396400Z"
    }
   }
  },
  {
   "cell_type": "markdown",
   "source": [
    "## Track Prediction with Pitstops\n"
   ],
   "metadata": {
    "collapsed": false
   }
  },
  {
   "cell_type": "code",
   "execution_count": 35,
   "outputs": [
    {
     "name": "stdout",
     "output_type": "stream",
     "text": [
      "Races\n"
     ]
    },
    {
     "data": {
      "text/plain": "      raceId  year  round  circuitId                      name        date   \n0          1  2009      1          1     Australian Grand Prix  2009-03-29  \\\n1          2  2009      2          2      Malaysian Grand Prix  2009-04-05   \n2          3  2009      3         17        Chinese Grand Prix  2009-04-19   \n3          4  2009      4          3        Bahrain Grand Prix  2009-04-26   \n4          5  2009      5          4        Spanish Grand Prix  2009-05-10   \n...      ...   ...    ...        ...                       ...         ...   \n1097    1116  2023     19         69  United States Grand Prix  2023-10-22   \n1098    1117  2023     20         32    Mexico City Grand Prix  2023-10-29   \n1099    1118  2023     21         18      São Paulo Grand Prix  2023-11-05   \n1100    1119  2023     22         80      Las Vegas Grand Prix  2023-11-19   \n1101    1120  2023     23         24      Abu Dhabi Grand Prix  2023-11-26   \n\n          time                                                url    fp1_date   \n0     06:00:00  http://en.wikipedia.org/wiki/2009_Australian_G...          \\N  \\\n1     09:00:00  http://en.wikipedia.org/wiki/2009_Malaysian_Gr...          \\N   \n2     07:00:00  http://en.wikipedia.org/wiki/2009_Chinese_Gran...          \\N   \n3     12:00:00  http://en.wikipedia.org/wiki/2009_Bahrain_Gran...          \\N   \n4     12:00:00  http://en.wikipedia.org/wiki/2009_Spanish_Gran...          \\N   \n...        ...                                                ...         ...   \n1097  19:00:00  https://en.wikipedia.org/wiki/2023_United_Stat...  2023-10-20   \n1098  20:00:00  https://en.wikipedia.org/wiki/2023_Mexico_City...  2023-10-27   \n1099  17:00:00  https://en.wikipedia.org/wiki/2023_S%C3%A3o_Pa...  2023-11-03   \n1100  06:00:00  https://en.wikipedia.org/wiki/2023_Las_Vegas_G...  2023-11-17   \n1101  13:00:00  https://en.wikipedia.org/wiki/2023_Abu_Dhabi_G...  2023-11-24   \n\n      fp1_time    fp2_date  fp2_time    fp3_date  fp3_time  quali_date   \n0           \\N          \\N        \\N          \\N        \\N          \\N  \\\n1           \\N          \\N        \\N          \\N        \\N          \\N   \n2           \\N          \\N        \\N          \\N        \\N          \\N   \n3           \\N          \\N        \\N          \\N        \\N          \\N   \n4           \\N          \\N        \\N          \\N        \\N          \\N   \n...        ...         ...       ...         ...       ...         ...   \n1097  17:30:00  2023-10-21  18:00:00          \\N        \\N  2023-10-20   \n1098  18:30:00  2023-10-27  22:00:00  2023-10-28  17:30:00  2023-10-28   \n1099  14:30:00  2023-11-04  14:30:00          \\N        \\N  2023-11-03   \n1100  04:30:00  2023-11-17  08:00:00  2023-11-18  04:30:00  2023-11-18   \n1101  09:30:00  2023-11-24  13:00:00  2023-11-25  10:30:00  2023-11-25   \n\n     quali_time sprint_date sprint_time  \n0            \\N          \\N          \\N  \n1            \\N          \\N          \\N  \n2            \\N          \\N          \\N  \n3            \\N          \\N          \\N  \n4            \\N          \\N          \\N  \n...         ...         ...         ...  \n1097   21:00:00  2023-10-21    22:00:00  \n1098   21:00:00          \\N          \\N  \n1099   18:00:00  2023-11-04    18:30:00  \n1100   08:00:00          \\N          \\N  \n1101   14:00:00          \\N          \\N  \n\n[1102 rows x 18 columns]",
      "text/html": "<div>\n<style scoped>\n    .dataframe tbody tr th:only-of-type {\n        vertical-align: middle;\n    }\n\n    .dataframe tbody tr th {\n        vertical-align: top;\n    }\n\n    .dataframe thead th {\n        text-align: right;\n    }\n</style>\n<table border=\"1\" class=\"dataframe\">\n  <thead>\n    <tr style=\"text-align: right;\">\n      <th></th>\n      <th>raceId</th>\n      <th>year</th>\n      <th>round</th>\n      <th>circuitId</th>\n      <th>name</th>\n      <th>date</th>\n      <th>time</th>\n      <th>url</th>\n      <th>fp1_date</th>\n      <th>fp1_time</th>\n      <th>fp2_date</th>\n      <th>fp2_time</th>\n      <th>fp3_date</th>\n      <th>fp3_time</th>\n      <th>quali_date</th>\n      <th>quali_time</th>\n      <th>sprint_date</th>\n      <th>sprint_time</th>\n    </tr>\n  </thead>\n  <tbody>\n    <tr>\n      <th>0</th>\n      <td>1</td>\n      <td>2009</td>\n      <td>1</td>\n      <td>1</td>\n      <td>Australian Grand Prix</td>\n      <td>2009-03-29</td>\n      <td>06:00:00</td>\n      <td>http://en.wikipedia.org/wiki/2009_Australian_G...</td>\n      <td>\\N</td>\n      <td>\\N</td>\n      <td>\\N</td>\n      <td>\\N</td>\n      <td>\\N</td>\n      <td>\\N</td>\n      <td>\\N</td>\n      <td>\\N</td>\n      <td>\\N</td>\n      <td>\\N</td>\n    </tr>\n    <tr>\n      <th>1</th>\n      <td>2</td>\n      <td>2009</td>\n      <td>2</td>\n      <td>2</td>\n      <td>Malaysian Grand Prix</td>\n      <td>2009-04-05</td>\n      <td>09:00:00</td>\n      <td>http://en.wikipedia.org/wiki/2009_Malaysian_Gr...</td>\n      <td>\\N</td>\n      <td>\\N</td>\n      <td>\\N</td>\n      <td>\\N</td>\n      <td>\\N</td>\n      <td>\\N</td>\n      <td>\\N</td>\n      <td>\\N</td>\n      <td>\\N</td>\n      <td>\\N</td>\n    </tr>\n    <tr>\n      <th>2</th>\n      <td>3</td>\n      <td>2009</td>\n      <td>3</td>\n      <td>17</td>\n      <td>Chinese Grand Prix</td>\n      <td>2009-04-19</td>\n      <td>07:00:00</td>\n      <td>http://en.wikipedia.org/wiki/2009_Chinese_Gran...</td>\n      <td>\\N</td>\n      <td>\\N</td>\n      <td>\\N</td>\n      <td>\\N</td>\n      <td>\\N</td>\n      <td>\\N</td>\n      <td>\\N</td>\n      <td>\\N</td>\n      <td>\\N</td>\n      <td>\\N</td>\n    </tr>\n    <tr>\n      <th>3</th>\n      <td>4</td>\n      <td>2009</td>\n      <td>4</td>\n      <td>3</td>\n      <td>Bahrain Grand Prix</td>\n      <td>2009-04-26</td>\n      <td>12:00:00</td>\n      <td>http://en.wikipedia.org/wiki/2009_Bahrain_Gran...</td>\n      <td>\\N</td>\n      <td>\\N</td>\n      <td>\\N</td>\n      <td>\\N</td>\n      <td>\\N</td>\n      <td>\\N</td>\n      <td>\\N</td>\n      <td>\\N</td>\n      <td>\\N</td>\n      <td>\\N</td>\n    </tr>\n    <tr>\n      <th>4</th>\n      <td>5</td>\n      <td>2009</td>\n      <td>5</td>\n      <td>4</td>\n      <td>Spanish Grand Prix</td>\n      <td>2009-05-10</td>\n      <td>12:00:00</td>\n      <td>http://en.wikipedia.org/wiki/2009_Spanish_Gran...</td>\n      <td>\\N</td>\n      <td>\\N</td>\n      <td>\\N</td>\n      <td>\\N</td>\n      <td>\\N</td>\n      <td>\\N</td>\n      <td>\\N</td>\n      <td>\\N</td>\n      <td>\\N</td>\n      <td>\\N</td>\n    </tr>\n    <tr>\n      <th>...</th>\n      <td>...</td>\n      <td>...</td>\n      <td>...</td>\n      <td>...</td>\n      <td>...</td>\n      <td>...</td>\n      <td>...</td>\n      <td>...</td>\n      <td>...</td>\n      <td>...</td>\n      <td>...</td>\n      <td>...</td>\n      <td>...</td>\n      <td>...</td>\n      <td>...</td>\n      <td>...</td>\n      <td>...</td>\n      <td>...</td>\n    </tr>\n    <tr>\n      <th>1097</th>\n      <td>1116</td>\n      <td>2023</td>\n      <td>19</td>\n      <td>69</td>\n      <td>United States Grand Prix</td>\n      <td>2023-10-22</td>\n      <td>19:00:00</td>\n      <td>https://en.wikipedia.org/wiki/2023_United_Stat...</td>\n      <td>2023-10-20</td>\n      <td>17:30:00</td>\n      <td>2023-10-21</td>\n      <td>18:00:00</td>\n      <td>\\N</td>\n      <td>\\N</td>\n      <td>2023-10-20</td>\n      <td>21:00:00</td>\n      <td>2023-10-21</td>\n      <td>22:00:00</td>\n    </tr>\n    <tr>\n      <th>1098</th>\n      <td>1117</td>\n      <td>2023</td>\n      <td>20</td>\n      <td>32</td>\n      <td>Mexico City Grand Prix</td>\n      <td>2023-10-29</td>\n      <td>20:00:00</td>\n      <td>https://en.wikipedia.org/wiki/2023_Mexico_City...</td>\n      <td>2023-10-27</td>\n      <td>18:30:00</td>\n      <td>2023-10-27</td>\n      <td>22:00:00</td>\n      <td>2023-10-28</td>\n      <td>17:30:00</td>\n      <td>2023-10-28</td>\n      <td>21:00:00</td>\n      <td>\\N</td>\n      <td>\\N</td>\n    </tr>\n    <tr>\n      <th>1099</th>\n      <td>1118</td>\n      <td>2023</td>\n      <td>21</td>\n      <td>18</td>\n      <td>São Paulo Grand Prix</td>\n      <td>2023-11-05</td>\n      <td>17:00:00</td>\n      <td>https://en.wikipedia.org/wiki/2023_S%C3%A3o_Pa...</td>\n      <td>2023-11-03</td>\n      <td>14:30:00</td>\n      <td>2023-11-04</td>\n      <td>14:30:00</td>\n      <td>\\N</td>\n      <td>\\N</td>\n      <td>2023-11-03</td>\n      <td>18:00:00</td>\n      <td>2023-11-04</td>\n      <td>18:30:00</td>\n    </tr>\n    <tr>\n      <th>1100</th>\n      <td>1119</td>\n      <td>2023</td>\n      <td>22</td>\n      <td>80</td>\n      <td>Las Vegas Grand Prix</td>\n      <td>2023-11-19</td>\n      <td>06:00:00</td>\n      <td>https://en.wikipedia.org/wiki/2023_Las_Vegas_G...</td>\n      <td>2023-11-17</td>\n      <td>04:30:00</td>\n      <td>2023-11-17</td>\n      <td>08:00:00</td>\n      <td>2023-11-18</td>\n      <td>04:30:00</td>\n      <td>2023-11-18</td>\n      <td>08:00:00</td>\n      <td>\\N</td>\n      <td>\\N</td>\n    </tr>\n    <tr>\n      <th>1101</th>\n      <td>1120</td>\n      <td>2023</td>\n      <td>23</td>\n      <td>24</td>\n      <td>Abu Dhabi Grand Prix</td>\n      <td>2023-11-26</td>\n      <td>13:00:00</td>\n      <td>https://en.wikipedia.org/wiki/2023_Abu_Dhabi_G...</td>\n      <td>2023-11-24</td>\n      <td>09:30:00</td>\n      <td>2023-11-24</td>\n      <td>13:00:00</td>\n      <td>2023-11-25</td>\n      <td>10:30:00</td>\n      <td>2023-11-25</td>\n      <td>14:00:00</td>\n      <td>\\N</td>\n      <td>\\N</td>\n    </tr>\n  </tbody>\n</table>\n<p>1102 rows × 18 columns</p>\n</div>"
     },
     "metadata": {},
     "output_type": "display_data"
    },
    {
     "data": {
      "text/plain": "            count         mean         std     min      25%     50%      75%   \nraceId     1102.0   553.853902  321.706151     1.0   276.25   551.5   826.75  \\\nyear       1102.0  1992.049002   20.308639  1950.0  1976.00  1994.0  2010.00   \nround      1102.0     8.507260    5.097545     1.0     4.00     8.0    12.00   \ncircuitId  1102.0    23.697822   19.337398     1.0     9.00    18.0    34.00   \n\n              max  \nraceId     1120.0  \nyear       2023.0  \nround        23.0  \ncircuitId    80.0  ",
      "text/html": "<div>\n<style scoped>\n    .dataframe tbody tr th:only-of-type {\n        vertical-align: middle;\n    }\n\n    .dataframe tbody tr th {\n        vertical-align: top;\n    }\n\n    .dataframe thead th {\n        text-align: right;\n    }\n</style>\n<table border=\"1\" class=\"dataframe\">\n  <thead>\n    <tr style=\"text-align: right;\">\n      <th></th>\n      <th>count</th>\n      <th>mean</th>\n      <th>std</th>\n      <th>min</th>\n      <th>25%</th>\n      <th>50%</th>\n      <th>75%</th>\n      <th>max</th>\n    </tr>\n  </thead>\n  <tbody>\n    <tr>\n      <th>raceId</th>\n      <td>1102.0</td>\n      <td>553.853902</td>\n      <td>321.706151</td>\n      <td>1.0</td>\n      <td>276.25</td>\n      <td>551.5</td>\n      <td>826.75</td>\n      <td>1120.0</td>\n    </tr>\n    <tr>\n      <th>year</th>\n      <td>1102.0</td>\n      <td>1992.049002</td>\n      <td>20.308639</td>\n      <td>1950.0</td>\n      <td>1976.00</td>\n      <td>1994.0</td>\n      <td>2010.00</td>\n      <td>2023.0</td>\n    </tr>\n    <tr>\n      <th>round</th>\n      <td>1102.0</td>\n      <td>8.507260</td>\n      <td>5.097545</td>\n      <td>1.0</td>\n      <td>4.00</td>\n      <td>8.0</td>\n      <td>12.00</td>\n      <td>23.0</td>\n    </tr>\n    <tr>\n      <th>circuitId</th>\n      <td>1102.0</td>\n      <td>23.697822</td>\n      <td>19.337398</td>\n      <td>1.0</td>\n      <td>9.00</td>\n      <td>18.0</td>\n      <td>34.00</td>\n      <td>80.0</td>\n    </tr>\n  </tbody>\n</table>\n</div>"
     },
     "metadata": {},
     "output_type": "display_data"
    }
   ],
   "source": [
    "races_df = pd.read_csv('data/races.csv')\n",
    "print(\"Races\")\n",
    "display(races_df)\n",
    "display(races_df.describe().T)"
   ],
   "metadata": {
    "collapsed": false,
    "ExecuteTime": {
     "end_time": "2023-08-08T04:25:08.139033Z",
     "start_time": "2023-08-08T04:25:08.018569700Z"
    }
   }
  },
  {
   "cell_type": "code",
   "execution_count": 36,
   "outputs": [
    {
     "name": "stdout",
     "output_type": "stream",
     "text": [
      "Pit Stops\n"
     ]
    },
    {
     "data": {
      "text/plain": "      raceId  driverId  stop  lap      time duration  milliseconds\n0        841       153     1    1  17:05:23   26.898         26898\n1        841        30     1    1  17:05:52   25.021         25021\n2        841        17     1   11  17:20:48   23.426         23426\n3        841         4     1   12  17:22:34   23.251         23251\n4        841        13     1   13  17:24:10   23.842         23842\n...      ...       ...   ...  ...       ...      ...           ...\n9629    1096       849     2   38  18:02:50   25.174         25174\n9630    1096       840     2   40  18:04:44   21.802         21802\n9631    1096       839     2   41  18:06:09   21.734         21734\n9632    1096       846     2   42  18:07:36   21.559         21559\n9633    1096       855     2   44  18:11:10   23.159         23159\n\n[9634 rows x 7 columns]",
      "text/html": "<div>\n<style scoped>\n    .dataframe tbody tr th:only-of-type {\n        vertical-align: middle;\n    }\n\n    .dataframe tbody tr th {\n        vertical-align: top;\n    }\n\n    .dataframe thead th {\n        text-align: right;\n    }\n</style>\n<table border=\"1\" class=\"dataframe\">\n  <thead>\n    <tr style=\"text-align: right;\">\n      <th></th>\n      <th>raceId</th>\n      <th>driverId</th>\n      <th>stop</th>\n      <th>lap</th>\n      <th>time</th>\n      <th>duration</th>\n      <th>milliseconds</th>\n    </tr>\n  </thead>\n  <tbody>\n    <tr>\n      <th>0</th>\n      <td>841</td>\n      <td>153</td>\n      <td>1</td>\n      <td>1</td>\n      <td>17:05:23</td>\n      <td>26.898</td>\n      <td>26898</td>\n    </tr>\n    <tr>\n      <th>1</th>\n      <td>841</td>\n      <td>30</td>\n      <td>1</td>\n      <td>1</td>\n      <td>17:05:52</td>\n      <td>25.021</td>\n      <td>25021</td>\n    </tr>\n    <tr>\n      <th>2</th>\n      <td>841</td>\n      <td>17</td>\n      <td>1</td>\n      <td>11</td>\n      <td>17:20:48</td>\n      <td>23.426</td>\n      <td>23426</td>\n    </tr>\n    <tr>\n      <th>3</th>\n      <td>841</td>\n      <td>4</td>\n      <td>1</td>\n      <td>12</td>\n      <td>17:22:34</td>\n      <td>23.251</td>\n      <td>23251</td>\n    </tr>\n    <tr>\n      <th>4</th>\n      <td>841</td>\n      <td>13</td>\n      <td>1</td>\n      <td>13</td>\n      <td>17:24:10</td>\n      <td>23.842</td>\n      <td>23842</td>\n    </tr>\n    <tr>\n      <th>...</th>\n      <td>...</td>\n      <td>...</td>\n      <td>...</td>\n      <td>...</td>\n      <td>...</td>\n      <td>...</td>\n      <td>...</td>\n    </tr>\n    <tr>\n      <th>9629</th>\n      <td>1096</td>\n      <td>849</td>\n      <td>2</td>\n      <td>38</td>\n      <td>18:02:50</td>\n      <td>25.174</td>\n      <td>25174</td>\n    </tr>\n    <tr>\n      <th>9630</th>\n      <td>1096</td>\n      <td>840</td>\n      <td>2</td>\n      <td>40</td>\n      <td>18:04:44</td>\n      <td>21.802</td>\n      <td>21802</td>\n    </tr>\n    <tr>\n      <th>9631</th>\n      <td>1096</td>\n      <td>839</td>\n      <td>2</td>\n      <td>41</td>\n      <td>18:06:09</td>\n      <td>21.734</td>\n      <td>21734</td>\n    </tr>\n    <tr>\n      <th>9632</th>\n      <td>1096</td>\n      <td>846</td>\n      <td>2</td>\n      <td>42</td>\n      <td>18:07:36</td>\n      <td>21.559</td>\n      <td>21559</td>\n    </tr>\n    <tr>\n      <th>9633</th>\n      <td>1096</td>\n      <td>855</td>\n      <td>2</td>\n      <td>44</td>\n      <td>18:11:10</td>\n      <td>23.159</td>\n      <td>23159</td>\n    </tr>\n  </tbody>\n</table>\n<p>9634 rows × 7 columns</p>\n</div>"
     },
     "metadata": {},
     "output_type": "display_data"
    },
    {
     "data": {
      "text/plain": "               count          mean            std      min       25%      50%   \nraceId        9634.0    956.103384      76.862933    841.0    885.00    953.0  \\\ndriverId      9634.0    513.030828     391.682304      1.0     18.00    815.0   \nstop          9634.0      1.760536       0.914522      1.0      1.00      2.0   \nlap           9634.0     25.255553      14.579838      1.0     13.00     25.0   \nmilliseconds  9634.0  72401.730641  273833.956873  12897.0  21908.25  23557.0   \n\n                   75%        max  \nraceId         1024.00     1096.0  \ndriverId        830.00      856.0  \nstop              2.00        6.0  \nlap              36.00       78.0  \nmilliseconds  26186.75  3069017.0  ",
      "text/html": "<div>\n<style scoped>\n    .dataframe tbody tr th:only-of-type {\n        vertical-align: middle;\n    }\n\n    .dataframe tbody tr th {\n        vertical-align: top;\n    }\n\n    .dataframe thead th {\n        text-align: right;\n    }\n</style>\n<table border=\"1\" class=\"dataframe\">\n  <thead>\n    <tr style=\"text-align: right;\">\n      <th></th>\n      <th>count</th>\n      <th>mean</th>\n      <th>std</th>\n      <th>min</th>\n      <th>25%</th>\n      <th>50%</th>\n      <th>75%</th>\n      <th>max</th>\n    </tr>\n  </thead>\n  <tbody>\n    <tr>\n      <th>raceId</th>\n      <td>9634.0</td>\n      <td>956.103384</td>\n      <td>76.862933</td>\n      <td>841.0</td>\n      <td>885.00</td>\n      <td>953.0</td>\n      <td>1024.00</td>\n      <td>1096.0</td>\n    </tr>\n    <tr>\n      <th>driverId</th>\n      <td>9634.0</td>\n      <td>513.030828</td>\n      <td>391.682304</td>\n      <td>1.0</td>\n      <td>18.00</td>\n      <td>815.0</td>\n      <td>830.00</td>\n      <td>856.0</td>\n    </tr>\n    <tr>\n      <th>stop</th>\n      <td>9634.0</td>\n      <td>1.760536</td>\n      <td>0.914522</td>\n      <td>1.0</td>\n      <td>1.00</td>\n      <td>2.0</td>\n      <td>2.00</td>\n      <td>6.0</td>\n    </tr>\n    <tr>\n      <th>lap</th>\n      <td>9634.0</td>\n      <td>25.255553</td>\n      <td>14.579838</td>\n      <td>1.0</td>\n      <td>13.00</td>\n      <td>25.0</td>\n      <td>36.00</td>\n      <td>78.0</td>\n    </tr>\n    <tr>\n      <th>milliseconds</th>\n      <td>9634.0</td>\n      <td>72401.730641</td>\n      <td>273833.956873</td>\n      <td>12897.0</td>\n      <td>21908.25</td>\n      <td>23557.0</td>\n      <td>26186.75</td>\n      <td>3069017.0</td>\n    </tr>\n  </tbody>\n</table>\n</div>"
     },
     "metadata": {},
     "output_type": "display_data"
    }
   ],
   "source": [
    "# Load and review Race detail information\n",
    "pit_stops_df = pd.read_csv(\"data/pit_stops.csv\")\n",
    "print(\"Pit Stops\")\n",
    "display(pit_stops_df)\n",
    "display(pit_stops_df.describe().T)"
   ],
   "metadata": {
    "collapsed": false,
    "ExecuteTime": {
     "end_time": "2023-08-08T04:25:10.640125700Z",
     "start_time": "2023-08-08T04:25:10.487998800Z"
    }
   }
  },
  {
   "cell_type": "code",
   "execution_count": 98,
   "outputs": [
    {
     "data": {
      "text/plain": "      raceId  driverId  stop  lap      time duration  milliseconds  year   \n0        841       153     1    1  17:05:23   26.898         26898  2011  \\\n1        841        30     1    1  17:05:52   25.021         25021  2011   \n2        841        17     1   11  17:20:48   23.426         23426  2011   \n3        841         4     1   12  17:22:34   23.251         23251  2011   \n4        841        13     1   13  17:24:10   23.842         23842  2011   \n...      ...       ...   ...  ...       ...      ...           ...   ...   \n9629    1096       849     2   38  18:02:50   25.174         25174  2022   \n9630    1096       840     2   40  18:04:44   21.802         21802  2022   \n9631    1096       839     2   41  18:06:09   21.734         21734  2022   \n9632    1096       846     2   42  18:07:36   21.559         21559  2022   \n9633    1096       855     2   44  18:11:10   23.159         23159  2022   \n\n      circuitId  \n0             1  \n1             1  \n2             1  \n3             1  \n4             1  \n...         ...  \n9629         24  \n9630         24  \n9631         24  \n9632         24  \n9633         24  \n\n[9634 rows x 9 columns]",
      "text/html": "<div>\n<style scoped>\n    .dataframe tbody tr th:only-of-type {\n        vertical-align: middle;\n    }\n\n    .dataframe tbody tr th {\n        vertical-align: top;\n    }\n\n    .dataframe thead th {\n        text-align: right;\n    }\n</style>\n<table border=\"1\" class=\"dataframe\">\n  <thead>\n    <tr style=\"text-align: right;\">\n      <th></th>\n      <th>raceId</th>\n      <th>driverId</th>\n      <th>stop</th>\n      <th>lap</th>\n      <th>time</th>\n      <th>duration</th>\n      <th>milliseconds</th>\n      <th>year</th>\n      <th>circuitId</th>\n    </tr>\n  </thead>\n  <tbody>\n    <tr>\n      <th>0</th>\n      <td>841</td>\n      <td>153</td>\n      <td>1</td>\n      <td>1</td>\n      <td>17:05:23</td>\n      <td>26.898</td>\n      <td>26898</td>\n      <td>2011</td>\n      <td>1</td>\n    </tr>\n    <tr>\n      <th>1</th>\n      <td>841</td>\n      <td>30</td>\n      <td>1</td>\n      <td>1</td>\n      <td>17:05:52</td>\n      <td>25.021</td>\n      <td>25021</td>\n      <td>2011</td>\n      <td>1</td>\n    </tr>\n    <tr>\n      <th>2</th>\n      <td>841</td>\n      <td>17</td>\n      <td>1</td>\n      <td>11</td>\n      <td>17:20:48</td>\n      <td>23.426</td>\n      <td>23426</td>\n      <td>2011</td>\n      <td>1</td>\n    </tr>\n    <tr>\n      <th>3</th>\n      <td>841</td>\n      <td>4</td>\n      <td>1</td>\n      <td>12</td>\n      <td>17:22:34</td>\n      <td>23.251</td>\n      <td>23251</td>\n      <td>2011</td>\n      <td>1</td>\n    </tr>\n    <tr>\n      <th>4</th>\n      <td>841</td>\n      <td>13</td>\n      <td>1</td>\n      <td>13</td>\n      <td>17:24:10</td>\n      <td>23.842</td>\n      <td>23842</td>\n      <td>2011</td>\n      <td>1</td>\n    </tr>\n    <tr>\n      <th>...</th>\n      <td>...</td>\n      <td>...</td>\n      <td>...</td>\n      <td>...</td>\n      <td>...</td>\n      <td>...</td>\n      <td>...</td>\n      <td>...</td>\n      <td>...</td>\n    </tr>\n    <tr>\n      <th>9629</th>\n      <td>1096</td>\n      <td>849</td>\n      <td>2</td>\n      <td>38</td>\n      <td>18:02:50</td>\n      <td>25.174</td>\n      <td>25174</td>\n      <td>2022</td>\n      <td>24</td>\n    </tr>\n    <tr>\n      <th>9630</th>\n      <td>1096</td>\n      <td>840</td>\n      <td>2</td>\n      <td>40</td>\n      <td>18:04:44</td>\n      <td>21.802</td>\n      <td>21802</td>\n      <td>2022</td>\n      <td>24</td>\n    </tr>\n    <tr>\n      <th>9631</th>\n      <td>1096</td>\n      <td>839</td>\n      <td>2</td>\n      <td>41</td>\n      <td>18:06:09</td>\n      <td>21.734</td>\n      <td>21734</td>\n      <td>2022</td>\n      <td>24</td>\n    </tr>\n    <tr>\n      <th>9632</th>\n      <td>1096</td>\n      <td>846</td>\n      <td>2</td>\n      <td>42</td>\n      <td>18:07:36</td>\n      <td>21.559</td>\n      <td>21559</td>\n      <td>2022</td>\n      <td>24</td>\n    </tr>\n    <tr>\n      <th>9633</th>\n      <td>1096</td>\n      <td>855</td>\n      <td>2</td>\n      <td>44</td>\n      <td>18:11:10</td>\n      <td>23.159</td>\n      <td>23159</td>\n      <td>2022</td>\n      <td>24</td>\n    </tr>\n  </tbody>\n</table>\n<p>9634 rows × 9 columns</p>\n</div>"
     },
     "execution_count": 98,
     "metadata": {},
     "output_type": "execute_result"
    }
   ],
   "source": [
    "pits_year_df = pd.merge(pit_stops_df,\n",
    "                        races_df[['raceId','year','circuitId']],\n",
    "                        on = 'raceId')\n",
    "pits_year_df"
   ],
   "metadata": {
    "collapsed": false,
    "ExecuteTime": {
     "end_time": "2023-08-08T05:16:23.451344Z",
     "start_time": "2023-08-08T05:16:23.306343700Z"
    }
   }
  },
  {
   "cell_type": "markdown",
   "source": [
    "### 2022\n",
    "\n",
    "Let's look at just 2022 - This was just a test.  We actually did the full list below."
   ],
   "metadata": {
    "collapsed": false
   }
  },
  {
   "cell_type": "code",
   "execution_count": 74,
   "outputs": [
    {
     "name": "stdout",
     "output_type": "stream",
     "text": [
      "No. of Races: 22\n"
     ]
    }
   ],
   "source": [
    "yr_df = pits_year_df[pits_year_df['year']==2022]\n",
    "# of races in 2022\n",
    "print(\"No. of Races:\", len(yr_df.raceId.unique()))"
   ],
   "metadata": {
    "collapsed": false,
    "ExecuteTime": {
     "end_time": "2023-08-08T05:07:23.339644300Z",
     "start_time": "2023-08-08T05:07:23.283538700Z"
    }
   }
  },
  {
   "cell_type": "code",
   "execution_count": 99,
   "outputs": [
    {
     "name": "stdout",
     "output_type": "stream",
     "text": [
      "No. of Races: 239\n"
     ]
    }
   ],
   "source": [
    "yr_df = pits_year_df\n",
    "print(\"No. of Races:\", len(yr_df.raceId.unique()))"
   ],
   "metadata": {
    "collapsed": false,
    "ExecuteTime": {
     "end_time": "2023-08-08T05:16:32.944488100Z",
     "start_time": "2023-08-08T05:16:32.849747Z"
    }
   }
  },
  {
   "cell_type": "code",
   "execution_count": 100,
   "outputs": [
    {
     "data": {
      "text/plain": "raceId           int64\ndriverId         int64\nstop             int64\nlap              int64\ntime            object\nduration        object\nmilliseconds     int64\nyear             int64\ncircuitId        int64\ndtype: object"
     },
     "execution_count": 100,
     "metadata": {},
     "output_type": "execute_result"
    }
   ],
   "source": [
    "yr_df.dtypes"
   ],
   "metadata": {
    "collapsed": false,
    "ExecuteTime": {
     "end_time": "2023-08-08T05:16:34.839753100Z",
     "start_time": "2023-08-08T05:16:34.741998800Z"
    }
   }
  },
  {
   "cell_type": "code",
   "execution_count": 101,
   "outputs": [
    {
     "data": {
      "text/plain": "raceId            int64\ndriverId          int64\nstop              int64\nlap               int64\ntime             object\nduration        float64\nmilliseconds      int64\nyear              int64\ncircuitId         int64\ndtype: object"
     },
     "metadata": {},
     "output_type": "display_data"
    },
    {
     "data": {
      "text/plain": "      raceId  driverId  stop  lap      time  duration  milliseconds  year   \n0        841       153     1    1  17:05:23    26.898         26898  2011  \\\n1        841        30     1    1  17:05:52    25.021         25021  2011   \n2        841        17     1   11  17:20:48    23.426         23426  2011   \n3        841         4     1   12  17:22:34    23.251         23251  2011   \n4        841        13     1   13  17:24:10    23.842         23842  2011   \n...      ...       ...   ...  ...       ...       ...           ...   ...   \n9629    1096       849     2   38  18:02:50    25.174         25174  2022   \n9630    1096       840     2   40  18:04:44    21.802         21802  2022   \n9631    1096       839     2   41  18:06:09    21.734         21734  2022   \n9632    1096       846     2   42  18:07:36    21.559         21559  2022   \n9633    1096       855     2   44  18:11:10    23.159         23159  2022   \n\n      circuitId  \n0             1  \n1             1  \n2             1  \n3             1  \n4             1  \n...         ...  \n9629         24  \n9630         24  \n9631         24  \n9632         24  \n9633         24  \n\n[9634 rows x 9 columns]",
      "text/html": "<div>\n<style scoped>\n    .dataframe tbody tr th:only-of-type {\n        vertical-align: middle;\n    }\n\n    .dataframe tbody tr th {\n        vertical-align: top;\n    }\n\n    .dataframe thead th {\n        text-align: right;\n    }\n</style>\n<table border=\"1\" class=\"dataframe\">\n  <thead>\n    <tr style=\"text-align: right;\">\n      <th></th>\n      <th>raceId</th>\n      <th>driverId</th>\n      <th>stop</th>\n      <th>lap</th>\n      <th>time</th>\n      <th>duration</th>\n      <th>milliseconds</th>\n      <th>year</th>\n      <th>circuitId</th>\n    </tr>\n  </thead>\n  <tbody>\n    <tr>\n      <th>0</th>\n      <td>841</td>\n      <td>153</td>\n      <td>1</td>\n      <td>1</td>\n      <td>17:05:23</td>\n      <td>26.898</td>\n      <td>26898</td>\n      <td>2011</td>\n      <td>1</td>\n    </tr>\n    <tr>\n      <th>1</th>\n      <td>841</td>\n      <td>30</td>\n      <td>1</td>\n      <td>1</td>\n      <td>17:05:52</td>\n      <td>25.021</td>\n      <td>25021</td>\n      <td>2011</td>\n      <td>1</td>\n    </tr>\n    <tr>\n      <th>2</th>\n      <td>841</td>\n      <td>17</td>\n      <td>1</td>\n      <td>11</td>\n      <td>17:20:48</td>\n      <td>23.426</td>\n      <td>23426</td>\n      <td>2011</td>\n      <td>1</td>\n    </tr>\n    <tr>\n      <th>3</th>\n      <td>841</td>\n      <td>4</td>\n      <td>1</td>\n      <td>12</td>\n      <td>17:22:34</td>\n      <td>23.251</td>\n      <td>23251</td>\n      <td>2011</td>\n      <td>1</td>\n    </tr>\n    <tr>\n      <th>4</th>\n      <td>841</td>\n      <td>13</td>\n      <td>1</td>\n      <td>13</td>\n      <td>17:24:10</td>\n      <td>23.842</td>\n      <td>23842</td>\n      <td>2011</td>\n      <td>1</td>\n    </tr>\n    <tr>\n      <th>...</th>\n      <td>...</td>\n      <td>...</td>\n      <td>...</td>\n      <td>...</td>\n      <td>...</td>\n      <td>...</td>\n      <td>...</td>\n      <td>...</td>\n      <td>...</td>\n    </tr>\n    <tr>\n      <th>9629</th>\n      <td>1096</td>\n      <td>849</td>\n      <td>2</td>\n      <td>38</td>\n      <td>18:02:50</td>\n      <td>25.174</td>\n      <td>25174</td>\n      <td>2022</td>\n      <td>24</td>\n    </tr>\n    <tr>\n      <th>9630</th>\n      <td>1096</td>\n      <td>840</td>\n      <td>2</td>\n      <td>40</td>\n      <td>18:04:44</td>\n      <td>21.802</td>\n      <td>21802</td>\n      <td>2022</td>\n      <td>24</td>\n    </tr>\n    <tr>\n      <th>9631</th>\n      <td>1096</td>\n      <td>839</td>\n      <td>2</td>\n      <td>41</td>\n      <td>18:06:09</td>\n      <td>21.734</td>\n      <td>21734</td>\n      <td>2022</td>\n      <td>24</td>\n    </tr>\n    <tr>\n      <th>9632</th>\n      <td>1096</td>\n      <td>846</td>\n      <td>2</td>\n      <td>42</td>\n      <td>18:07:36</td>\n      <td>21.559</td>\n      <td>21559</td>\n      <td>2022</td>\n      <td>24</td>\n    </tr>\n    <tr>\n      <th>9633</th>\n      <td>1096</td>\n      <td>855</td>\n      <td>2</td>\n      <td>44</td>\n      <td>18:11:10</td>\n      <td>23.159</td>\n      <td>23159</td>\n      <td>2022</td>\n      <td>24</td>\n    </tr>\n  </tbody>\n</table>\n<p>9634 rows × 9 columns</p>\n</div>"
     },
     "execution_count": 101,
     "metadata": {},
     "output_type": "execute_result"
    }
   ],
   "source": [
    "convert = ['duration']\n",
    "for item in convert:\n",
    "    yr_df[item] = pd.to_numeric(yr_df[item],\n",
    "                                errors=\"coerce\")\n",
    "\n",
    "display(yr_df.dtypes)\n",
    "yr_dfy"
   ],
   "metadata": {
    "collapsed": false,
    "ExecuteTime": {
     "end_time": "2023-08-08T05:16:37.481654300Z",
     "start_time": "2023-08-08T05:16:37.369110500Z"
    }
   }
  },
  {
   "cell_type": "code",
   "execution_count": 102,
   "outputs": [],
   "source": [
    "def time_to_seconds(t):\n",
    "    \"\"\"\n",
    "    Returns time from midnight\n",
    "    :param t: Time String formatted as HH:MM:SS\n",
    "    :return: seconds\n",
    "    \"\"\"\n",
    "    hours, minutes, seconds = map(int, t.split(':'))\n",
    "    return hours * 3600 + minutes * 60 + seconds\n",
    "\n",
    "# Apply the function to the 'time' column\n",
    "yr_df['time'] = yr_df['time'].apply(time_to_seconds)"
   ],
   "metadata": {
    "collapsed": false,
    "ExecuteTime": {
     "end_time": "2023-08-08T05:16:40.294211600Z",
     "start_time": "2023-08-08T05:16:40.160471300Z"
    }
   }
  },
  {
   "cell_type": "code",
   "execution_count": 103,
   "outputs": [
    {
     "data": {
      "text/plain": "      raceId  driverId  stop  lap   time  duration  milliseconds  year   \n0        841       153     1    1  61523    26.898         26898  2011  \\\n1        841        30     1    1  61552    25.021         25021  2011   \n2        841        17     1   11  62448    23.426         23426  2011   \n3        841         4     1   12  62554    23.251         23251  2011   \n4        841        13     1   13  62650    23.842         23842  2011   \n...      ...       ...   ...  ...    ...       ...           ...   ...   \n9629    1096       849     2   38  64970    25.174         25174  2022   \n9630    1096       840     2   40  65084    21.802         21802  2022   \n9631    1096       839     2   41  65169    21.734         21734  2022   \n9632    1096       846     2   42  65256    21.559         21559  2022   \n9633    1096       855     2   44  65470    23.159         23159  2022   \n\n      circuitId  \n0             1  \n1             1  \n2             1  \n3             1  \n4             1  \n...         ...  \n9629         24  \n9630         24  \n9631         24  \n9632         24  \n9633         24  \n\n[9634 rows x 9 columns]",
      "text/html": "<div>\n<style scoped>\n    .dataframe tbody tr th:only-of-type {\n        vertical-align: middle;\n    }\n\n    .dataframe tbody tr th {\n        vertical-align: top;\n    }\n\n    .dataframe thead th {\n        text-align: right;\n    }\n</style>\n<table border=\"1\" class=\"dataframe\">\n  <thead>\n    <tr style=\"text-align: right;\">\n      <th></th>\n      <th>raceId</th>\n      <th>driverId</th>\n      <th>stop</th>\n      <th>lap</th>\n      <th>time</th>\n      <th>duration</th>\n      <th>milliseconds</th>\n      <th>year</th>\n      <th>circuitId</th>\n    </tr>\n  </thead>\n  <tbody>\n    <tr>\n      <th>0</th>\n      <td>841</td>\n      <td>153</td>\n      <td>1</td>\n      <td>1</td>\n      <td>61523</td>\n      <td>26.898</td>\n      <td>26898</td>\n      <td>2011</td>\n      <td>1</td>\n    </tr>\n    <tr>\n      <th>1</th>\n      <td>841</td>\n      <td>30</td>\n      <td>1</td>\n      <td>1</td>\n      <td>61552</td>\n      <td>25.021</td>\n      <td>25021</td>\n      <td>2011</td>\n      <td>1</td>\n    </tr>\n    <tr>\n      <th>2</th>\n      <td>841</td>\n      <td>17</td>\n      <td>1</td>\n      <td>11</td>\n      <td>62448</td>\n      <td>23.426</td>\n      <td>23426</td>\n      <td>2011</td>\n      <td>1</td>\n    </tr>\n    <tr>\n      <th>3</th>\n      <td>841</td>\n      <td>4</td>\n      <td>1</td>\n      <td>12</td>\n      <td>62554</td>\n      <td>23.251</td>\n      <td>23251</td>\n      <td>2011</td>\n      <td>1</td>\n    </tr>\n    <tr>\n      <th>4</th>\n      <td>841</td>\n      <td>13</td>\n      <td>1</td>\n      <td>13</td>\n      <td>62650</td>\n      <td>23.842</td>\n      <td>23842</td>\n      <td>2011</td>\n      <td>1</td>\n    </tr>\n    <tr>\n      <th>...</th>\n      <td>...</td>\n      <td>...</td>\n      <td>...</td>\n      <td>...</td>\n      <td>...</td>\n      <td>...</td>\n      <td>...</td>\n      <td>...</td>\n      <td>...</td>\n    </tr>\n    <tr>\n      <th>9629</th>\n      <td>1096</td>\n      <td>849</td>\n      <td>2</td>\n      <td>38</td>\n      <td>64970</td>\n      <td>25.174</td>\n      <td>25174</td>\n      <td>2022</td>\n      <td>24</td>\n    </tr>\n    <tr>\n      <th>9630</th>\n      <td>1096</td>\n      <td>840</td>\n      <td>2</td>\n      <td>40</td>\n      <td>65084</td>\n      <td>21.802</td>\n      <td>21802</td>\n      <td>2022</td>\n      <td>24</td>\n    </tr>\n    <tr>\n      <th>9631</th>\n      <td>1096</td>\n      <td>839</td>\n      <td>2</td>\n      <td>41</td>\n      <td>65169</td>\n      <td>21.734</td>\n      <td>21734</td>\n      <td>2022</td>\n      <td>24</td>\n    </tr>\n    <tr>\n      <th>9632</th>\n      <td>1096</td>\n      <td>846</td>\n      <td>2</td>\n      <td>42</td>\n      <td>65256</td>\n      <td>21.559</td>\n      <td>21559</td>\n      <td>2022</td>\n      <td>24</td>\n    </tr>\n    <tr>\n      <th>9633</th>\n      <td>1096</td>\n      <td>855</td>\n      <td>2</td>\n      <td>44</td>\n      <td>65470</td>\n      <td>23.159</td>\n      <td>23159</td>\n      <td>2022</td>\n      <td>24</td>\n    </tr>\n  </tbody>\n</table>\n<p>9634 rows × 9 columns</p>\n</div>"
     },
     "execution_count": 103,
     "metadata": {},
     "output_type": "execute_result"
    }
   ],
   "source": [
    "yr_df"
   ],
   "metadata": {
    "collapsed": false,
    "ExecuteTime": {
     "end_time": "2023-08-08T05:16:42.365563900Z",
     "start_time": "2023-08-08T05:16:42.250191Z"
    }
   }
  },
  {
   "cell_type": "code",
   "execution_count": 94,
   "outputs": [
    {
     "data": {
      "text/plain": "raceId            0\ndriverId          0\nstop              0\nlap               0\ntime              0\nduration        358\nmilliseconds      0\nyear              0\ncircuitId         0\ndtype: int64"
     },
     "execution_count": 94,
     "metadata": {},
     "output_type": "execute_result"
    }
   ],
   "source": [
    "yr_df.isna().sum()"
   ],
   "metadata": {
    "collapsed": false,
    "ExecuteTime": {
     "end_time": "2023-08-08T05:15:45.706859100Z",
     "start_time": "2023-08-08T05:15:45.657864600Z"
    }
   }
  },
  {
   "cell_type": "code",
   "execution_count": 104,
   "outputs": [
    {
     "data": {
      "text/plain": "<Axes: >"
     },
     "execution_count": 104,
     "metadata": {},
     "output_type": "execute_result"
    },
    {
     "data": {
      "text/plain": "<Figure size 640x480 with 2 Axes>",
      "image/png": "[encoded data removed]"
     },
     "metadata": {},
     "output_type": "display_data"
    }
   ],
   "source": [
    "yr_df = yr_df.drop(['duration','year'],axis=1)\n",
    "sns.heatmap(yr_df.corr(),annot=True)"
   ],
   "metadata": {
    "collapsed": false,
    "ExecuteTime": {
     "end_time": "2023-08-08T05:16:47.416727600Z",
     "start_time": "2023-08-08T05:16:46.913481200Z"
    }
   }
  },
  {
   "cell_type": "code",
   "execution_count": 105,
   "outputs": [],
   "source": [
    "# Lets create our training data sets\n",
    "X = yr_df.drop(columns=['circuitId']).values\n",
    "y = yr_df['circuitId']"
   ],
   "metadata": {
    "collapsed": false,
    "ExecuteTime": {
     "end_time": "2023-08-08T05:17:12.669699800Z",
     "start_time": "2023-08-08T05:17:12.622684300Z"
    }
   }
  },
  {
   "cell_type": "markdown",
   "source": [
    "# ML Algorithms"
   ],
   "metadata": {
    "collapsed": false
   }
  },
  {
   "cell_type": "code",
   "execution_count": 106,
   "outputs": [],
   "source": [
    "from sklearn.linear_model import LogisticRegression\n",
    "from sklearn.tree import DecisionTreeClassifier\n",
    "from sklearn.ensemble import RandomForestClassifier\n",
    "from sklearn.neighbors import KNeighborsClassifier\n",
    "from sklearn.naive_bayes import GaussianNB\n",
    "from sklearn.linear_model import SGDClassifier\n",
    "from sklearn.metrics import accuracy_score\n",
    "from sklearn.metrics import confusion_matrix\n",
    "from sklearn.metrics import classification_report\n",
    "from sklearn.preprocessing import StandardScaler\n",
    "from sklearn import tree"
   ],
   "metadata": {
    "collapsed": false,
    "ExecuteTime": {
     "end_time": "2023-08-08T05:17:16.500350300Z",
     "start_time": "2023-08-08T05:17:16.413546500Z"
    }
   }
  },
  {
   "cell_type": "code",
   "execution_count": 107,
   "outputs": [],
   "source": [
    "# Create our train test split\n",
    "X_train, X_test, y_train, y_test = train_test_split(X, y,\n",
    "                                                    test_size=0.2,\n",
    "                                                    random_state=42)\n",
    "stdsc = StandardScaler().fit(X_train)\n",
    "X_train_std = stdsc.transform(X_train)\n",
    "X_test_std = stdsc.transform(X_test)"
   ],
   "metadata": {
    "collapsed": false,
    "ExecuteTime": {
     "end_time": "2023-08-08T05:17:32.168615500Z",
     "start_time": "2023-08-08T05:17:32.093464800Z"
    }
   }
  },
  {
   "cell_type": "code",
   "execution_count": 108,
   "outputs": [],
   "source": [
    "# classification ML algorithms\n",
    "lr = LogisticRegression(solver='sag')\n",
    "dt = DecisionTreeClassifier()\n",
    "rn = RandomForestClassifier()\n",
    "knn = KNeighborsClassifier()\n",
    "gb = GaussianNB()\n",
    "sgd = SGDClassifier()"
   ],
   "metadata": {
    "collapsed": false,
    "ExecuteTime": {
     "end_time": "2023-08-08T05:17:35.438621100Z",
     "start_time": "2023-08-08T05:17:35.402825700Z"
    }
   }
  },
  {
   "cell_type": "code",
   "execution_count": 109,
   "outputs": [
    {
     "name": "stdout",
     "output_type": "stream",
     "text": [
      "LogisticRegression(solver='sag') : 30.877010897768553\n",
      "SGDClassifier() : 15.516346652828231\n",
      "KNeighborsClassifier() : 58.1733264141152\n",
      "GaussianNB() : 29.216398546964196\n",
      "RandomForestClassifier() : 83.44577062791905\n",
      "DecisionTreeClassifier() : 87.8048780487805\n"
     ]
    }
   ],
   "source": [
    "models = [lr,sgd,knn,gb,rn,dt]\n",
    "for m in models:\n",
    "    m.fit(X_train_std,y_train)\n",
    "    y_pred = m.predict(X_test_std)\n",
    "    print(m,\":\",accuracy_score(y_pred,y_test)*100)"
   ],
   "metadata": {
    "collapsed": false,
    "ExecuteTime": {
     "end_time": "2023-08-08T05:17:46.842988500Z",
     "start_time": "2023-08-08T05:17:41.593196800Z"
    }
   }
  },
  {
   "cell_type": "code",
   "execution_count": 111,
   "outputs": [
    {
     "name": "stdout",
     "output_type": "stream",
     "text": [
      "              precision    recall  f1-score   support\n",
      "\n",
      "           1       0.84      0.84      0.84        64\n",
      "           2       0.91      0.93      0.92        91\n",
      "           3       0.97      0.96      0.97       131\n",
      "           4       0.83      0.88      0.85       110\n",
      "           5       0.78      0.67      0.72        27\n",
      "           6       0.79      0.74      0.76        70\n",
      "           7       0.84      0.86      0.85        65\n",
      "           9       0.85      0.89      0.87        99\n",
      "          10       0.79      0.87      0.83        53\n",
      "          11       0.85      0.89      0.87       105\n",
      "          12       1.00      0.87      0.93        23\n",
      "          13       0.85      0.86      0.86        86\n",
      "          14       0.77      0.75      0.76        85\n",
      "          15       1.00      1.00      1.00        95\n",
      "          17       0.90      0.89      0.90        84\n",
      "          18       0.88      0.91      0.89       118\n",
      "          20       0.96      1.00      0.98        27\n",
      "          21       1.00      0.96      0.98        25\n",
      "          22       0.92      0.95      0.93        74\n",
      "          24       0.90      0.87      0.88        79\n",
      "          32       0.93      0.89      0.91        46\n",
      "          34       0.77      0.91      0.83        11\n",
      "          35       1.00      0.81      0.89        21\n",
      "          39       0.96      0.81      0.88        27\n",
      "          68       0.91      0.84      0.87        25\n",
      "          69       0.88      0.92      0.90        61\n",
      "          70       0.81      0.81      0.81        85\n",
      "          71       0.80      0.76      0.78        42\n",
      "          73       0.92      0.85      0.88        52\n",
      "          75       0.94      0.83      0.88        18\n",
      "          76       0.88      0.70      0.78        10\n",
      "          77       1.00      1.00      1.00        11\n",
      "          78       0.80      1.00      0.89         4\n",
      "          79       1.00      1.00      1.00         3\n",
      "\n",
      "    accuracy                           0.88      1927\n",
      "   macro avg       0.89      0.87      0.88      1927\n",
      "weighted avg       0.88      0.88      0.88      1927\n",
      "\n"
     ]
    }
   ],
   "source": [
    "rn_pred = rn.predict(X_test_std)\n",
    "print(classification_report(y_test,y_pred))"
   ],
   "metadata": {
    "collapsed": false,
    "ExecuteTime": {
     "end_time": "2023-08-08T05:21:35.074085600Z",
     "start_time": "2023-08-08T05:21:34.970440700Z"
    }
   }
  }
 ],
 "metadata": {
  "kernelspec": {
   "display_name": "Python 3",
   "language": "python",
   "name": "python3"
  },
  "language_info": {
   "codemirror_mode": {
    "name": "ipython",
    "version": 2
   },
   "file_extension": ".py",
   "mimetype": "text/x-python",
   "name": "python",
   "nbconvert_exporter": "python",
   "pygments_lexer": "ipython2",
   "version": "2.7.6"
  }
 },
 "nbformat": 4,
 "nbformat_minor": 0
}
